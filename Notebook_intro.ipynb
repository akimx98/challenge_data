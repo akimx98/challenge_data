{
 "cells": [
  {
   "cell_type": "markdown",
   "metadata": {
    "id": "YhEcUOIg3c3H"
   },
   "source": [
    "# Challenge Data - Module introduction à l'IA"
   ]
  },
  {
   "cell_type": "markdown",
   "metadata": {},
   "source": [
    "## Classification des images de 1 et de 6"
   ]
  },
  {
   "cell_type": "markdown",
   "metadata": {
    "id": "foelAg3Z3c3L"
   },
   "source": [
    "# I. Visualisation des données"
   ]
  },
  {
   "cell_type": "markdown",
   "metadata": {
    "id": "dDLe_OeD3c3M"
   },
   "source": [
    "On commence par importer les données dont nous aurons besoin :"
   ]
  },
  {
   "cell_type": "code",
   "execution_count": 9,
   "metadata": {
    "ExecuteTime": {
     "end_time": "2023-10-11T13:31:30.441152Z",
     "start_time": "2023-10-11T13:31:30.438151Z"
    },
    "id": "hEG4CkRf3c3N"
   },
   "outputs": [],
   "source": [
    "from utilitaires_mnist_2 import *"
   ]
  },
  {
   "cell_type": "markdown",
   "metadata": {
    "id": "pRpcPiSj3c3P"
   },
   "source": [
    "## I.1 Rappels Python"
   ]
  },
  {
   "cell_type": "markdown",
   "metadata": {
    "id": "WGTnsIJr3c3P"
   },
   "source": [
    "### Le type list\n",
    "\n",
    "On définit une liste à l'aide de crochets (rajoutez des print après chaque définition)  :"
   ]
  },
  {
   "cell_type": "code",
   "execution_count": null,
   "metadata": {
    "ExecuteTime": {
     "end_time": "2023-09-11T20:01:52.941344Z",
     "start_time": "2023-09-11T20:01:52.937935Z"
    },
    "id": "mj-OhmlA3c3P"
   },
   "outputs": [],
   "source": [
    "# liste vide :\n",
    "liste_vide = []\n",
    "# une liste peut contenir des nombres :\n",
    "liste = [1, 5.4, -3]"
   ]
  },
  {
   "cell_type": "markdown",
   "metadata": {
    "id": "fThTZLuX3c3Q"
   },
   "source": [
    "On accède à l'élément $i$ d'une liste en faisant\n",
    "`ma_liste[i]`."
   ]
  },
  {
   "cell_type": "markdown",
   "metadata": {
    "ExecuteTime": {
     "end_time": "2023-04-13T15:03:55.459584Z",
     "start_time": "2023-04-13T15:03:55.449099Z"
    },
    "id": "afG4WWLz3c3Q"
   },
   "source": [
    "<div class=\"alert alert-block alert-warning\">\n",
    "<b>⚠️ Attention  :</b> En Python les indices sont comptés à partir de 0, le premier élément d'une liste est donc liste[0].\n",
    "</div>"
   ]
  },
  {
   "cell_type": "markdown",
   "metadata": {
    "id": "YHPTCLOt3c3R"
   },
   "source": [
    "Avec la fonction `print(...)`, afficher le premier élément de la liste `liste`` :"
   ]
  },
  {
   "cell_type": "code",
   "execution_count": null,
   "metadata": {
    "ExecuteTime": {
     "end_time": "2023-05-22T00:36:11.806201Z",
     "start_time": "2023-05-22T00:36:11.803401Z"
    },
    "id": "Q778fuqj3c3R"
   },
   "outputs": [],
   "source": [
    "# Afficher le premier élément de la liste\n",
    "..."
   ]
  },
  {
   "cell_type": "markdown",
   "metadata": {
    "id": "-5PVAB0I3c3R"
   },
   "source": [
    "Pour ajouter des éléments à une liste, on peut utiliser la méthode `append` :"
   ]
  },
  {
   "cell_type": "code",
   "execution_count": null,
   "metadata": {
    "ExecuteTime": {
     "end_time": "2023-05-22T00:36:11.810294Z",
     "start_time": "2023-05-22T00:36:11.807729Z"
    },
    "id": "9WoqfFO33c3S"
   },
   "outputs": [],
   "source": [
    "# Ajouter \"8\" à la liste\n"
   ]
  },
  {
   "cell_type": "markdown",
   "metadata": {
    "id": "HgM3SnaB3c3S"
   },
   "source": [
    "## I.2 Image numérique"
   ]
  },
  {
   "cell_type": "markdown",
   "metadata": {
    "id": "47VxwOmd3c3T"
   },
   "source": [
    "Une image en niveaux de gris : tableau 2D de $28 \\times 28$ pixels. La valeur de chaque pixel est un entier compris entre 0 et 255.\n",
    "\n",
    "Nous avons créé une fonction `affichage`, vous pouvez directement l'appliquer à la variable `x` :"
   ]
  },
  {
   "cell_type": "code",
   "execution_count": null,
   "metadata": {
    "ExecuteTime": {
     "end_time": "2023-10-11T13:19:20.765341Z",
     "start_time": "2023-10-11T13:19:20.666761Z"
    },
    "id": "NoIjVSaG3c3T"
   },
   "outputs": [],
   "source": [
    "# Affichez l'image x :\n",
    "affichage(x)"
   ]
  },
  {
   "cell_type": "markdown",
   "metadata": {
    "id": "fA7jCyVq3c3T"
   },
   "source": [
    "### Accéder à un pixel particulier\n",
    "\n",
    "On accède à la valeur du pixel $(i,j)$ à la $i+1$-ème ligne et $j+1$-ème par la commande `x[i,j]`. Par exemple, pour accéder à la valeur du pixel central (14,14) on écrit simplement `x[14,14]`. On peut ensuite afficher cette valeur avec `print`."
   ]
  },
  {
   "cell_type": "code",
   "execution_count": null,
   "metadata": {
    "ExecuteTime": {
     "end_time": "2023-05-22T00:36:11.892261Z",
     "start_time": "2023-05-22T00:36:11.890924Z"
    },
    "id": "Q9zMMsIA3c3U"
   },
   "outputs": [],
   "source": [
    "# Vérifiez que pour notre image x, le pixel central est de valeur 0 et apparaît donc noir\n"
   ]
  },
  {
   "cell_type": "markdown",
   "metadata": {
    "id": "E-S5eGpL3c3U"
   },
   "source": [
    "### Accéder à une « tranche » de pixels\n",
    "\n",
    "* `x[a:b,c:d]` extrait les pixels appartenant aux lignes `a` à `b-1` (inclus) et colonnes `c` à `d-1` (inclus).\n",
    "* `x[a:b,c:d]` est un tableau de taille $(b-a) \\times (d-c)$.\n",
    "* Pour récupérer tous les pixels de `x` appartenant aux colonnes `c` à `d-1`, on utilise `x[:,c:d]`; et `x[a:b,:]` pour tous les pixels appartenant aux lignes `a` à `b-1`.\n",
    "\n",
    "<b><font color=red> Écrire une ligne de code pour afficher uniquement les colonnes 11 à 23 de l'image $x$ :</font></b>"
   ]
  },
  {
   "cell_type": "code",
   "execution_count": null,
   "metadata": {
    "ExecuteTime": {
     "end_time": "2023-05-22T00:36:11.896092Z",
     "start_time": "2023-05-22T00:36:11.894771Z"
    },
    "id": "FPzEWa553c3U"
   },
   "outputs": [],
   "source": [
    "# Visualisez les colonnes 11 à 23 de l'image x :\n"
   ]
  },
  {
   "cell_type": "code",
   "execution_count": null,
   "metadata": {
    "ExecuteTime": {
     "end_time": "2023-05-22T00:36:11.899257Z",
     "start_time": "2023-05-22T00:36:11.897786Z"
    },
    "id": "aQkwORvn3c3U",
    "scrolled": true
   },
   "outputs": [],
   "source": [
    "# Affichez directement la valeur des pixels des colonnes 11 à 23 de l'image x :\n"
   ]
  },
  {
   "cell_type": "markdown",
   "metadata": {
    "id": "m8H5uwBG3c3V"
   },
   "source": [
    "# II. Challenge : classer les chiffres 1 et 6"
   ]
  },
  {
   "cell_type": "code",
   "execution_count": null,
   "metadata": {
    "ExecuteTime": {
     "end_time": "2023-10-11T13:19:25.201707Z",
     "start_time": "2023-10-11T13:19:25.007308Z"
    },
    "id": "RulgAYYb3c3V"
   },
   "outputs": [],
   "source": [
    "# Affichez la première image de `x_train` :\n",
    "affichage(x_train[0])\n",
    "\n",
    "# Affichez la deuxième image de `x_train` :\n",
    "affichage(x_train[1])\n",
    "\n",
    "# Affichez la 9eme image de `x_train` :\n",
    "affichage(x_train[10])\n"
   ]
  },
  {
   "cell_type": "markdown",
   "metadata": {
    "id": "DCV8Mdf-3c3V"
   },
   "source": [
    "Pour visualiser les 10 premières images, utiliser la fonction `affichage_dix` :"
   ]
  },
  {
   "cell_type": "code",
   "execution_count": null,
   "metadata": {
    "ExecuteTime": {
     "end_time": "2023-10-11T13:19:28.716339Z",
     "start_time": "2023-10-11T13:19:28.507793Z"
    },
    "id": "ustc3Ft23c3V"
   },
   "outputs": [],
   "source": [
    "# Affiche les 10 premières images de x_train :\n",
    "affichage_dix(x_train)"
   ]
  },
  {
   "cell_type": "markdown",
   "metadata": {
    "id": "e83ZvsHa3c3W"
   },
   "source": [
    "## II.1 Choix a priori de la caractéristique"
   ]
  },
  {
   "cell_type": "markdown",
   "metadata": {
    "id": "j2SKqs3I3c3W"
   },
   "source": [
    "**Benchmark :** Proposition d'un caractéristiques utilisée comme référence"
   ]
  },
  {
   "cell_type": "code",
   "execution_count": 2,
   "metadata": {
    "ExecuteTime": {
     "end_time": "2023-10-11T13:28:26.585397Z",
     "start_time": "2023-10-11T13:28:26.580112Z"
    },
    "id": "tUEDxxJU3c3W"
   },
   "outputs": [],
   "source": [
    "# Une fonction qui calcule et renvoi la caractéristique de l'image x\n",
    "\n",
    "def caracteristique(x):\n",
    "    c = moyenne(x)\n",
    "    return c"
   ]
  },
  {
   "cell_type": "markdown",
   "metadata": {
    "id": "HuYO9hLB3c3W"
   },
   "source": [
    "<b><font color=red> Après être allé une première fois jusqu’au bout de ce Notebook</font></b>, vous définirez ci-dessous votre propre caractéristique en modifiant la cellule suivante :"
   ]
  },
  {
   "cell_type": "code",
   "execution_count": null,
   "metadata": {
    "ExecuteTime": {
     "end_time": "2023-05-22T00:36:12.249089Z",
     "start_time": "2023-05-22T00:36:12.247570Z"
    },
    "id": "_1CAKE8V3c3X"
   },
   "outputs": [],
   "source": [
    "# Une fonction qui calcule et renvoi la caractéristique de l'image x\n",
    "\n",
    "def caracteristique(x):\n",
    "\n",
    "    c = ...\n",
    "\n",
    "    return c"
   ]
  },
  {
   "cell_type": "markdown",
   "metadata": {
    "id": "OHTGFKHE3c3X"
   },
   "source": [
    "## II.2 Classificateur"
   ]
  },
  {
   "cell_type": "markdown",
   "metadata": {
    "id": "HMKooa-A3c3X"
   },
   "source": [
    "**Algorithme de classification :**\n",
    "* On choisit un seuil noté `s`\n",
    "* On compare la caractéristique de l'image à `s` et on renvoi l'entier $0$ ou $1$ :"
   ]
  },
  {
   "cell_type": "markdown",
   "metadata": {
    "id": "RSI2YQ-R3c3X"
   },
   "source": [
    "**Choix du seuil**\n",
    "Afficher les valeurs de caractéristiques pour des images de `x_train` :"
   ]
  },
  {
   "cell_type": "code",
   "execution_count": null,
   "metadata": {
    "ExecuteTime": {
     "end_time": "2023-10-11T13:24:31.008789Z",
     "start_time": "2023-10-11T13:24:30.772138Z"
    },
    "id": "iblf1QDP3c3Y"
   },
   "outputs": [],
   "source": [
    "affichage_dix(x_train)\n",
    "\n",
    "for i in range(10):\n",
    "    c = caracteristique(x_train[i])\n",
    "    y = y_train[i]\n",
    "    print('Image ' +str(i+1)+' : c(x) = '+str(c)+',   y = '+str(y)+'\\n')"
   ]
  },
  {
   "cell_type": "markdown",
   "metadata": {
    "id": "vghJR8WI3c3Y"
   },
   "source": [
    "<b><font color=red> D'après ces obervations, choisissez un seuil `s` et complétez la fonction classification :</font></b>"
   ]
  },
  {
   "cell_type": "code",
   "execution_count": 3,
   "metadata": {
    "ExecuteTime": {
     "end_time": "2023-10-11T13:28:31.636167Z",
     "start_time": "2023-10-11T13:28:31.629412Z"
    },
    "id": "Hlud91vX3c3Y"
   },
   "outputs": [],
   "source": [
    "# Seuil à compléter :\n",
    "\n",
    "s = 25\n",
    "\n",
    "# Algorithme de classification :\n",
    "def classification(x, s):\n",
    "    c = caracteristique(x)\n",
    "    if c > s:\n",
    "        return 1\n",
    "    else:\n",
    "        return -1"
   ]
  },
  {
   "cell_type": "markdown",
   "metadata": {
    "id": "AJtdOOAh3c3m"
   },
   "source": [
    "## II.3 Calcul de l'erreur d'entraînement pour ce paramètre"
   ]
  },
  {
   "cell_type": "markdown",
   "metadata": {
    "id": "Id0M3qtb3c3m"
   },
   "source": [
    "Pour calculer l'erreur d'entraînement : \n",
    "- on calcule d'abord l'erreur par image, avec ``erreur_image(x, y, s)``\n",
    "- puis on calcule la moyenne des erreurs par images, avec ``erreur_train(x_train, y_train, s)``\n",
    "\n",
    "Notez que ces deux fonctions dépendent du paramètre ``s``.  "
   ]
  },
  {
   "cell_type": "markdown",
   "metadata": {},
   "source": [
    "<b><font color=red> Exécuter la cellule pour définir ces deux fonctions (déjà écrites) :</font></b>"
   ]
  },
  {
   "cell_type": "code",
   "execution_count": null,
   "metadata": {
    "ExecuteTime": {
     "end_time": "2023-10-11T13:24:36.293478Z",
     "start_time": "2023-10-11T13:24:36.284944Z"
    }
   },
   "outputs": [],
   "source": [
    "# Fonction qui calcule l'erreur pour une image x, en fonction de la réponse y et du paramètre s\n",
    "def erreur_image(x, y, s):\n",
    "    c = caracteristique(x)\n",
    "    y_est = classification(x, s)\n",
    "    \n",
    "    if y_est == y:\n",
    "        erreur = 0\n",
    "    else:\n",
    "        erreur = 1\n",
    "        \n",
    "    return erreur\n",
    "\n",
    "# Fonction qui calcule la moyenne des erreur par image pour donner l'erreur d'entrainement\n",
    "def erreur_train(x_train, y_train, s):\n",
    "    liste_erreurs = []\n",
    "\n",
    "    for i in range(N):\n",
    "        x = x_train[i]\n",
    "        y = y_train[i]\n",
    "        \n",
    "        erreur = erreur_image(x, y, s)\n",
    "        liste_erreurs.append(erreur)\n",
    "        \n",
    "    return moyenne(liste_erreurs)"
   ]
  },
  {
   "cell_type": "markdown",
   "metadata": {
    "id": "XH6gKPwi3c3m"
   },
   "source": [
    "<b><font color=red> Exécuter la cellule suivante pour calculer votre erreur d'entraînement :</font></b>"
   ]
  },
  {
   "cell_type": "code",
   "execution_count": null,
   "metadata": {
    "ExecuteTime": {
     "end_time": "2023-10-11T13:24:38.536978Z",
     "start_time": "2023-10-11T13:24:38.279155Z"
    },
    "id": "aBfIA86U3c3m",
    "scrolled": true
   },
   "outputs": [],
   "source": [
    "# calcul de l'erreur d'entraienement grâce \n",
    "\n",
    "e_train = erreur_train(x_train, y_train, s)\n",
    "print(\"\\n \\n --> Erreur d'entraînement =\", f\"{100*e_train:.2f}% \\n \\n\")"
   ]
  },
  {
   "cell_type": "markdown",
   "metadata": {
    "id": "1zX0UQm13c3n"
   },
   "source": [
    "Qu'en pensez-vous ? Nous allons maintenant chercher le paramètre s qui minimse la fonction erreur."
   ]
  },
  {
   "cell_type": "markdown",
   "metadata": {
    "id": "AJtdOOAh3c3m"
   },
   "source": [
    "## II.4 Minimisation de la fonction erreur"
   ]
  },
  {
   "cell_type": "markdown",
   "metadata": {
    "ExecuteTime": {
     "end_time": "2023-09-11T20:51:23.780522Z",
     "start_time": "2023-09-11T20:51:23.775389Z"
    }
   },
   "source": [
    "Pour trouver le meilleur paramètre ``s`` nous traçons la fonction $e_{train}(s)$ pour trouver son minimum. "
   ]
  },
  {
   "cell_type": "markdown",
   "metadata": {},
   "source": [
    "<b><font color=red> Exécuter la cellule suivante pour afficher la fonction erreur :</font></b>"
   ]
  },
  {
   "cell_type": "code",
   "execution_count": 12,
   "metadata": {
    "ExecuteTime": {
     "end_time": "2023-10-11T13:32:54.654834Z",
     "start_time": "2023-10-11T13:32:52.248999Z"
    }
   },
   "outputs": [
    {
     "data": {
      "application/vnd.jupyter.widget-view+json": {
       "model_id": "38c447cc4a424d12ac9b95b722676e0e",
       "version_major": 2,
       "version_minor": 0
      },
      "text/plain": [
       "Calculating:   0%|          | 0/40 [00:00<?, ?it/s]"
      ]
     },
     "metadata": {},
     "output_type": "display_data"
    },
    {
     "data": {
      "image/png": "[encoded data removed]",
      "text/plain": [
       "<Figure size 1050x600 with 1 Axes>"
      ]
     },
     "metadata": {
      "needs_background": "light"
     },
     "output_type": "display_data"
    }
   ],
   "source": [
    "s_min = 0\n",
    "s_max = 80\n",
    "pas = 2\n",
    "\n",
    "tracer_erreur(s_min, s_max,pas, classification)"
   ]
  },
  {
   "cell_type": "markdown",
   "metadata": {},
   "source": [
    "<br>\n",
    " \n",
    "<b><font color=blue> 1. Quelle valeur de ``s`` pouvez prendre pour avoir le moins d'erreur ? </font></b>\n",
    "<br>\n",
    "\n",
    "<br>\n",
    "<b><font color=blue> 2. Retournez à la section II.2 pour mettre à jour la valeur de ``s`` et faites tourner les cellules de II.2 à II.3 pour afficher votre nouveau score. </font></b>\n",
    "<br>\n",
    "\n",
    "<br>\n",
    "<b><font color=blue> 3. Retournez à la section II.1 pour définir votre propre caractéristique et diminuer encore l'erreur.</font></b> <b><font color=red>Essayer d'obtenir l'erreur la plus faible possible ! </font></b>\n",
    "\n",
    "Pensez à optimiser la valeur de ``s`` pour chaque nouvelle caractéristique, et éventuellement à échanger les rôles de -1 et 1 dans le code de la fonction ``classification``. "
   ]
  },
  {
   "cell_type": "markdown",
   "metadata": {
    "id": "jZ6DBbq_3c3n"
   },
   "source": [
    "## II.4 Soumission sur la plateforme pour obtenir l'erreur de test\n"
   ]
  },
  {
   "cell_type": "markdown",
   "metadata": {
    "id": "Se74-rj13c3n"
   },
   "source": [
    "<b><font color=red>Une fois que vous être content de votre caractéristique,</font></b> exécuter la cellule suivante : "
   ]
  },
  {
   "cell_type": "code",
   "execution_count": null,
   "metadata": {
    "ExecuteTime": {
     "end_time": "2023-05-22T00:36:12.530784Z",
     "start_time": "2023-05-22T00:36:12.455204Z"
    },
    "id": "Wg-gCB4J3c3n"
   },
   "outputs": [],
   "source": [
    "y_est_test = []\n",
    "\n",
    "for x in x_test_2:\n",
    "    y_est_test.append(classification(x))\n",
    "\n",
    "# Sauvez et téléchargez vos estimations y_est_test, en entrant le nom du fichier que vous souhaitez\n",
    "sauver_et_telecharger_mnist_2(y_est_test, 'y_est_test_mnist2.csv')"
   ]
  },
  {
   "cell_type": "markdown",
   "metadata": {
    "id": "Memm_MC73c3o"
   },
   "source": [
    "<b><font color=red>Soumettez ce fichier .csv sur la plateforme Challenge Data</font></b> afin d'obtenir votre erreur de test en cliquant sur **[ce lien](https://challengedata.ens.fr/challenges/116)** (n'oubliez pas au préalable d'être bien connecté).\n",
    "\n",
    "Quelle est votre erreur de test ?"
   ]
  },
  {
   "cell_type": "code",
   "execution_count": 44,
   "metadata": {
    "ExecuteTime": {
     "end_time": "2023-10-12T09:51:03.020615Z",
     "start_time": "2023-10-12T09:51:03.011318Z"
    }
   },
   "outputs": [],
   "source": [
    "import matplotlib.pyplot as plt\n",
    "\n",
    "classes = y_train[0:10]\n",
    "\n",
    "def affichage_dix(images, classes):\n",
    "    fig, ax = plt.subplots(1, 10, figsize=(8,2)) # Ajustez la taille pour avoir de l'espace pour les labels\n",
    "    for k in range(10):\n",
    "        ax[k].imshow(images[k], cmap='gray')\n",
    "        ax[k].set_xticks([])\n",
    "        ax[k].set_yticks([])\n",
    "        ax[k].set_xlabel(classes[k], fontsize=12)  # Ajoutez les labels ici\n",
    "        \n",
    "    plt.subplots_adjust(left=0, right=1, top=1, bottom=0, wspace=0.2, hspace=0.6)\n",
    "    plt.show()\n",
    "    plt.close()\n"
   ]
  },
  {
   "cell_type": "code",
   "execution_count": 45,
   "metadata": {
    "ExecuteTime": {
     "end_time": "2023-10-12T09:51:03.806668Z",
     "start_time": "2023-10-12T09:51:03.599166Z"
    }
   },
   "outputs": [
    {
     "data": {
      "image/png": "[encoded data removed]",
      "text/plain": [
       "<Figure size 1200x300 with 10 Axes>"
      ]
     },
     "metadata": {},
     "output_type": "display_data"
    }
   ],
   "source": [
    "affichage_dix(x_train, classes)"
   ]
  },
  {
   "cell_type": "code",
   "execution_count": 24,
   "metadata": {
    "ExecuteTime": {
     "end_time": "2023-10-11T13:49:34.971198Z",
     "start_time": "2023-10-11T13:49:34.955368Z"
    }
   },
   "outputs": [],
   "source": [
    "import matplotlib.pyplot as plt\n",
    "\n",
    "def affichage_dix(images, classes):\n",
    "    fig, ax = plt.subplots(2, 10, figsize=(10, 2))\n",
    "    \n",
    "    # Cachez les axes des subplots\n",
    "    for i in range(2):\n",
    "        for j in range(10):\n",
    "            ax[i, j].axis('off')\n",
    "    \n",
    "    # Définissez les en-têtes des colonnes\n",
    "    ax[0, 0].text(0, 0.5, 'Image', va='center', ha='center', fontsize=12, fontweight='bold')\n",
    "    ax[1, 0].text(0, 0.5, 'Classe', va='center', ha='center', fontsize=12, fontweight='bold')\n",
    "    \n",
    "    # Affichez les images et les classes\n",
    "    for k in range(10):\n",
    "        ax[0, k].imshow(images[k], cmap='gray')\n",
    "        ax[1, k].text(0.5, 0.5, str(classes[k]), va='center', ha='center', fontsize=12)\n",
    "    \n",
    "    plt.subplots_adjust(left=0, right=1, top=1, bottom=0, wspace=0.05, hspace=0.05)\n",
    "    plt.show()\n",
    "    plt.close()\n"
   ]
  },
  {
   "cell_type": "code",
   "execution_count": 27,
   "metadata": {
    "ExecuteTime": {
     "end_time": "2023-10-11T13:56:00.062696Z",
     "start_time": "2023-10-11T13:55:59.969714Z"
    }
   },
   "outputs": [
    {
     "name": "stderr",
     "output_type": "stream",
     "text": [
      "<ipython-input-26-84f8540ab7ce>:16: MatplotlibDeprecationWarning: Case-insensitive properties were deprecated in 3.3 and support will be removed two minor releases later\n",
      "  table = ax.table(cellText=cellText, cellColours=cellColours,\n"
     ]
    },
    {
     "ename": "AttributeError",
     "evalue": "'Table' object has no property 'cellpadding'",
     "output_type": "error",
     "traceback": [
      "\u001b[0;31m---------------------------------------------------------------------------\u001b[0m",
      "\u001b[0;31mAttributeError\u001b[0m                            Traceback (most recent call last)",
      "\u001b[0;32m<ipython-input-27-387ddcd5b7ea>\u001b[0m in \u001b[0;36m<module>\u001b[0;34m\u001b[0m\n\u001b[0;32m----> 1\u001b[0;31m \u001b[0maffichage_dix\u001b[0m\u001b[0;34m(\u001b[0m\u001b[0mx_train\u001b[0m\u001b[0;34m,\u001b[0m \u001b[0mclasses\u001b[0m\u001b[0;34m)\u001b[0m\u001b[0;34m\u001b[0m\u001b[0;34m\u001b[0m\u001b[0m\n\u001b[0m",
      "\u001b[0;32m<ipython-input-26-84f8540ab7ce>\u001b[0m in \u001b[0;36maffichage_dix\u001b[0;34m(images, classes)\u001b[0m\n\u001b[1;32m     14\u001b[0m         \u001b[0mcellColours\u001b[0m\u001b[0;34m[\u001b[0m\u001b[0;36m1\u001b[0m\u001b[0;34m]\u001b[0m\u001b[0;34m[\u001b[0m\u001b[0mi\u001b[0m\u001b[0;34m]\u001b[0m \u001b[0;34m=\u001b[0m \u001b[0;34m'lightgray'\u001b[0m\u001b[0;34m\u001b[0m\u001b[0;34m\u001b[0m\u001b[0m\n\u001b[1;32m     15\u001b[0m \u001b[0;34m\u001b[0m\u001b[0m\n\u001b[0;32m---> 16\u001b[0;31m     table = ax.table(cellText=cellText, cellColours=cellColours, \n\u001b[0m\u001b[1;32m     17\u001b[0m                      \u001b[0mcolLabels\u001b[0m\u001b[0;34m=\u001b[0m\u001b[0;34m[\u001b[0m\u001b[0;34m'Image {}'\u001b[0m\u001b[0;34m.\u001b[0m\u001b[0mformat\u001b[0m\u001b[0;34m(\u001b[0m\u001b[0mi\u001b[0m\u001b[0;34m)\u001b[0m \u001b[0;32mfor\u001b[0m \u001b[0mi\u001b[0m \u001b[0;32min\u001b[0m \u001b[0mrange\u001b[0m\u001b[0;34m(\u001b[0m\u001b[0;36m1\u001b[0m\u001b[0;34m,\u001b[0m \u001b[0;36m11\u001b[0m\u001b[0;34m)\u001b[0m\u001b[0;34m]\u001b[0m\u001b[0;34m,\u001b[0m\u001b[0;34m\u001b[0m\u001b[0;34m\u001b[0m\u001b[0m\n\u001b[1;32m     18\u001b[0m                      loc='bottom', cellLoc = 'center', cellPadding=5)\n",
      "\u001b[0;32m~/opt/anaconda3/lib/python3.8/site-packages/matplotlib/table.py\u001b[0m in \u001b[0;36mtable\u001b[0;34m(ax, cellText, cellColours, cellLoc, colWidths, rowLabels, rowColours, rowLoc, colLabels, colColours, colLoc, loc, bbox, edges, **kwargs)\u001b[0m\n\u001b[1;32m    789\u001b[0m \u001b[0;34m\u001b[0m\u001b[0m\n\u001b[1;32m    790\u001b[0m     \u001b[0;31m# Now create the table\u001b[0m\u001b[0;34m\u001b[0m\u001b[0;34m\u001b[0m\u001b[0;34m\u001b[0m\u001b[0m\n\u001b[0;32m--> 791\u001b[0;31m     \u001b[0mtable\u001b[0m \u001b[0;34m=\u001b[0m \u001b[0mTable\u001b[0m\u001b[0;34m(\u001b[0m\u001b[0max\u001b[0m\u001b[0;34m,\u001b[0m \u001b[0mloc\u001b[0m\u001b[0;34m,\u001b[0m \u001b[0mbbox\u001b[0m\u001b[0;34m,\u001b[0m \u001b[0;34m**\u001b[0m\u001b[0mkwargs\u001b[0m\u001b[0;34m)\u001b[0m\u001b[0;34m\u001b[0m\u001b[0;34m\u001b[0m\u001b[0m\n\u001b[0m\u001b[1;32m    792\u001b[0m     \u001b[0mtable\u001b[0m\u001b[0;34m.\u001b[0m\u001b[0medges\u001b[0m \u001b[0;34m=\u001b[0m \u001b[0medges\u001b[0m\u001b[0;34m\u001b[0m\u001b[0;34m\u001b[0m\u001b[0m\n\u001b[1;32m    793\u001b[0m     \u001b[0mheight\u001b[0m \u001b[0;34m=\u001b[0m \u001b[0mtable\u001b[0m\u001b[0;34m.\u001b[0m\u001b[0m_approx_text_height\u001b[0m\u001b[0;34m(\u001b[0m\u001b[0;34m)\u001b[0m\u001b[0;34m\u001b[0m\u001b[0;34m\u001b[0m\u001b[0m\n",
      "\u001b[0;32m~/opt/anaconda3/lib/python3.8/site-packages/matplotlib/table.py\u001b[0m in \u001b[0;36m__init__\u001b[0;34m(self, ax, loc, bbox, **kwargs)\u001b[0m\n\u001b[1;32m    311\u001b[0m         \u001b[0mself\u001b[0m\u001b[0;34m.\u001b[0m\u001b[0m_autoColumns\u001b[0m \u001b[0;34m=\u001b[0m \u001b[0;34m[\u001b[0m\u001b[0;34m]\u001b[0m\u001b[0;34m\u001b[0m\u001b[0;34m\u001b[0m\u001b[0m\n\u001b[1;32m    312\u001b[0m         \u001b[0mself\u001b[0m\u001b[0;34m.\u001b[0m\u001b[0m_autoFontsize\u001b[0m \u001b[0;34m=\u001b[0m \u001b[0;32mTrue\u001b[0m\u001b[0;34m\u001b[0m\u001b[0;34m\u001b[0m\u001b[0m\n\u001b[0;32m--> 313\u001b[0;31m         \u001b[0mself\u001b[0m\u001b[0;34m.\u001b[0m\u001b[0mupdate\u001b[0m\u001b[0;34m(\u001b[0m\u001b[0mkwargs\u001b[0m\u001b[0;34m)\u001b[0m\u001b[0;34m\u001b[0m\u001b[0;34m\u001b[0m\u001b[0m\n\u001b[0m\u001b[1;32m    314\u001b[0m \u001b[0;34m\u001b[0m\u001b[0m\n\u001b[1;32m    315\u001b[0m         \u001b[0mself\u001b[0m\u001b[0;34m.\u001b[0m\u001b[0mset_clip_on\u001b[0m\u001b[0;34m(\u001b[0m\u001b[0;32mFalse\u001b[0m\u001b[0;34m)\u001b[0m\u001b[0;34m\u001b[0m\u001b[0;34m\u001b[0m\u001b[0m\n",
      "\u001b[0;32m~/opt/anaconda3/lib/python3.8/site-packages/matplotlib/artist.py\u001b[0m in \u001b[0;36mupdate\u001b[0;34m(self, props)\u001b[0m\n\u001b[1;32m    994\u001b[0m                     \u001b[0mfunc\u001b[0m \u001b[0;34m=\u001b[0m \u001b[0mgetattr\u001b[0m\u001b[0;34m(\u001b[0m\u001b[0mself\u001b[0m\u001b[0;34m,\u001b[0m \u001b[0;34mf\"set_{k}\"\u001b[0m\u001b[0;34m,\u001b[0m \u001b[0;32mNone\u001b[0m\u001b[0;34m)\u001b[0m\u001b[0;34m\u001b[0m\u001b[0;34m\u001b[0m\u001b[0m\n\u001b[1;32m    995\u001b[0m                     \u001b[0;32mif\u001b[0m \u001b[0;32mnot\u001b[0m \u001b[0mcallable\u001b[0m\u001b[0;34m(\u001b[0m\u001b[0mfunc\u001b[0m\u001b[0;34m)\u001b[0m\u001b[0;34m:\u001b[0m\u001b[0;34m\u001b[0m\u001b[0;34m\u001b[0m\u001b[0m\n\u001b[0;32m--> 996\u001b[0;31m                         raise AttributeError(f\"{type(self).__name__!r} object \"\n\u001b[0m\u001b[1;32m    997\u001b[0m                                              f\"has no property {k!r}\")\n\u001b[1;32m    998\u001b[0m                     \u001b[0mret\u001b[0m\u001b[0;34m.\u001b[0m\u001b[0mappend\u001b[0m\u001b[0;34m(\u001b[0m\u001b[0mfunc\u001b[0m\u001b[0;34m(\u001b[0m\u001b[0mv\u001b[0m\u001b[0;34m)\u001b[0m\u001b[0;34m)\u001b[0m\u001b[0;34m\u001b[0m\u001b[0;34m\u001b[0m\u001b[0m\n",
      "\u001b[0;31mAttributeError\u001b[0m: 'Table' object has no property 'cellpadding'"
     ]
    },
    {
     "data": {
      "image/png": "[encoded data removed]",
      "text/plain": [
       "<Figure size 1500x300 with 1 Axes>"
      ]
     },
     "metadata": {
      "needs_background": "light"
     },
     "output_type": "display_data"
    }
   ],
   "source": [
    "affichage_dix(x_train, classes)"
   ]
  },
  {
   "cell_type": "code",
   "execution_count": 26,
   "metadata": {
    "ExecuteTime": {
     "end_time": "2023-10-11T13:55:57.149617Z",
     "start_time": "2023-10-11T13:55:57.136957Z"
    }
   },
   "outputs": [],
   "source": [
    "import matplotlib.pyplot as plt\n",
    "\n",
    "def affichage_dix(images, classes):\n",
    "    fig, ax = plt.subplots(figsize=(10, 2))\n",
    "    ax.axis('tight')\n",
    "    ax.axis('off')\n",
    "    \n",
    "    cellText = [['' for j in range(10)] for i in range(2)]\n",
    "    cellColours = [[None for j in range(10)] for i in range(2)]\n",
    "    \n",
    "    for i in range(10):\n",
    "        ax.imshow(images[i], cmap='gray', extent=[i*1.1, (i+1)*1.1, 1.5, 2.5], aspect='auto', interpolation='none')\n",
    "        cellText[1][i] = str(classes[i])\n",
    "        cellColours[1][i] = 'lightgray'\n",
    "    \n",
    "    table = ax.table(cellText=cellText, cellColours=cellColours, \n",
    "                     colLabels=['Image {}'.format(i) for i in range(1, 11)], \n",
    "                     loc='bottom', cellLoc = 'center', cellPadding=5)\n",
    "\n",
    "    plt.show()"
   ]
  },
  {
   "cell_type": "code",
   "execution_count": null,
   "metadata": {},
   "outputs": [],
   "source": []
  }
 ],
 "metadata": {
  "colab": {
   "provenance": []
  },
  "kernelspec": {
   "display_name": "Python 3",
   "language": "python",
   "name": "python3"
  },
  "language_info": {
   "codemirror_mode": {
    "name": "ipython",
    "version": 3
   },
   "file_extension": ".py",
   "mimetype": "text/x-python",
   "name": "python",
   "nbconvert_exporter": "python",
   "pygments_lexer": "ipython3",
   "version": "3.8.8"
  }
 },
 "nbformat": 4,
 "nbformat_minor": 1
}
