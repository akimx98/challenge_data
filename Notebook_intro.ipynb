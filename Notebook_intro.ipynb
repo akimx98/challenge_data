{
 "cells": [
  {
   "cell_type": "markdown",
   "metadata": {
    "id": "YhEcUOIg3c3H"
   },
   "source": [
    "# Challenge Data - Module introduction à l'IA"
   ]
  },
  {
   "cell_type": "markdown",
   "metadata": {},
   "source": [
    "## Classification des images de 2 et de 7"
   ]
  },
  {
   "cell_type": "markdown",
   "metadata": {
    "id": "foelAg3Z3c3L"
   },
   "source": [
    "# I. Visualisation des données"
   ]
  },
  {
   "cell_type": "markdown",
   "metadata": {
    "id": "dDLe_OeD3c3M"
   },
   "source": [
    "On commence par importer les données dont nous aurons besoin :"
   ]
  },
  {
   "cell_type": "code",
   "execution_count": null,
   "metadata": {
    "ExecuteTime": {
     "end_time": "2023-10-31T14:08:09.593579Z",
     "start_time": "2023-10-31T14:08:02.320543Z"
    },
    "id": "hEG4CkRf3c3N"
   },
   "outputs": [],
   "source": [
    "from utilitaires_mnist_2 import *"
   ]
  },
  {
   "cell_type": "markdown",
   "metadata": {
    "id": "pRpcPiSj3c3P"
   },
   "source": [
    "## I.1 Rappels Python"
   ]
  },
  {
   "cell_type": "markdown",
   "metadata": {
    "id": "WGTnsIJr3c3P"
   },
   "source": [
    "### Le type list\n",
    "\n",
    "On définit une liste à l'aide de crochets (rajoutez des print après chaque définition)  :"
   ]
  },
  {
   "cell_type": "code",
   "execution_count": null,
   "metadata": {
    "ExecuteTime": {
     "end_time": "2023-09-11T20:01:52.941344Z",
     "start_time": "2023-09-11T20:01:52.937935Z"
    },
    "id": "mj-OhmlA3c3P"
   },
   "outputs": [],
   "source": [
    "# liste vide :\n",
    "liste_vide = []\n",
    "# une liste peut contenir des nombres :\n",
    "liste = [1, 5.4, -3]"
   ]
  },
  {
   "cell_type": "markdown",
   "metadata": {
    "id": "fThTZLuX3c3Q"
   },
   "source": [
    "On accède à l'élément $i$ d'une liste en faisant\n",
    "`ma_liste[i]`."
   ]
  },
  {
   "cell_type": "markdown",
   "metadata": {
    "ExecuteTime": {
     "end_time": "2023-04-13T15:03:55.459584Z",
     "start_time": "2023-04-13T15:03:55.449099Z"
    },
    "id": "afG4WWLz3c3Q"
   },
   "source": [
    "<div class=\"alert alert-block alert-warning\">\n",
    "<b>⚠️ Attention  :</b> En Python les indices sont comptés à partir de 0, le premier élément d'une liste est donc liste[0].\n",
    "</div>"
   ]
  },
  {
   "cell_type": "markdown",
   "metadata": {
    "id": "YHPTCLOt3c3R"
   },
   "source": [
    "Avec la fonction `print(...)`, afficher le premier élément de la liste `liste`` :"
   ]
  },
  {
   "cell_type": "code",
   "execution_count": null,
   "metadata": {
    "ExecuteTime": {
     "end_time": "2023-05-22T00:36:11.806201Z",
     "start_time": "2023-05-22T00:36:11.803401Z"
    },
    "id": "Q778fuqj3c3R"
   },
   "outputs": [],
   "source": [
    "# Afficher le premier élément de la liste\n",
    "..."
   ]
  },
  {
   "cell_type": "markdown",
   "metadata": {
    "id": "-5PVAB0I3c3R"
   },
   "source": [
    "Pour ajouter des éléments à une liste, on peut utiliser la méthode `append` :"
   ]
  },
  {
   "cell_type": "code",
   "execution_count": null,
   "metadata": {
    "ExecuteTime": {
     "end_time": "2023-05-22T00:36:11.810294Z",
     "start_time": "2023-05-22T00:36:11.807729Z"
    },
    "id": "9WoqfFO33c3S"
   },
   "outputs": [],
   "source": [
    "# Ajouter \"8\" à la liste\n"
   ]
  },
  {
   "cell_type": "markdown",
   "metadata": {
    "id": "HgM3SnaB3c3S"
   },
   "source": [
    "## I.2 Image numérique"
   ]
  },
  {
   "cell_type": "markdown",
   "metadata": {
    "id": "47VxwOmd3c3T"
   },
   "source": [
    "Une image en niveaux de gris : tableau 2D de $28 \\times 28$ pixels. La valeur de chaque pixel est un entier compris entre 0 et 255.\n",
    "\n",
    "Nous avons créé une fonction `affichage`, vous pouvez directement l'appliquer à la variable `x` :"
   ]
  },
  {
   "cell_type": "code",
   "execution_count": null,
   "metadata": {
    "ExecuteTime": {
     "end_time": "2023-10-30T14:38:03.826906Z",
     "start_time": "2023-10-30T14:38:03.731525Z"
    },
    "id": "NoIjVSaG3c3T"
   },
   "outputs": [],
   "source": [
    "# Affichez l'image x :\n",
    "affichage(x)"
   ]
  },
  {
   "cell_type": "markdown",
   "metadata": {
    "id": "fA7jCyVq3c3T"
   },
   "source": [
    "### Accéder à un pixel particulier\n",
    "\n",
    "On accède à la valeur du pixel $(i,j)$ à la $i+1$-ème ligne et $j+1$-ème colonne par la commande `x[i,j]`. Par exemple, pour accéder à la valeur du pixel central (14,14) on écrit simplement `x[14,14]`. On peut ensuite afficher cette valeur avec `print`."
   ]
  },
  {
   "cell_type": "code",
   "execution_count": null,
   "metadata": {
    "ExecuteTime": {
     "end_time": "2023-10-30T14:05:48.701038Z",
     "start_time": "2023-10-30T14:05:48.694775Z"
    },
    "id": "Q9zMMsIA3c3U"
   },
   "outputs": [],
   "source": [
    "# Valeur du pixel (14,14) : \n"
   ]
  },
  {
   "cell_type": "markdown",
   "metadata": {
    "id": "E-S5eGpL3c3U"
   },
   "source": [
    "### Accéder à une « tranche » de pixels\n",
    "\n",
    "* `x[a:b,c:d]` extrait les pixels appartenant aux lignes `a` à `b-1` (inclus) et colonnes `c` à `d-1` (inclus).\n",
    "* `x[a:b,c:d]` est un tableau de taille $(b-a) \\times (d-c)$.\n",
    "* Pour récupérer tous les pixels de `x` appartenant aux colonnes `c` à `d-1`, on utilise `x[:,c:d]`; et `x[a:b,:]` pour tous les pixels appartenant aux lignes `a` à `b-1`.\n",
    "\n",
    "<b><font color=red> Écrire une ligne de code pour afficher uniquement les colonnes 11 à 23 de l'image $x$ :</font></b>"
   ]
  },
  {
   "cell_type": "code",
   "execution_count": null,
   "metadata": {
    "ExecuteTime": {
     "end_time": "2023-05-22T00:36:11.896092Z",
     "start_time": "2023-05-22T00:36:11.894771Z"
    },
    "id": "FPzEWa553c3U"
   },
   "outputs": [],
   "source": [
    "# Visualisez les colonnes 11 à 23 de l'image x :\n"
   ]
  },
  {
   "cell_type": "code",
   "execution_count": null,
   "metadata": {
    "ExecuteTime": {
     "end_time": "2023-05-22T00:36:11.899257Z",
     "start_time": "2023-05-22T00:36:11.897786Z"
    },
    "id": "aQkwORvn3c3U",
    "scrolled": true
   },
   "outputs": [],
   "source": [
    "# Affichez directement la valeur des pixels des colonnes 11 à 23 de l'image x :\n"
   ]
  },
  {
   "cell_type": "markdown",
   "metadata": {
    "id": "m8H5uwBG3c3V"
   },
   "source": [
    "# II. Challenge : classer les chiffres 2 et 7"
   ]
  },
  {
   "cell_type": "code",
   "execution_count": null,
   "metadata": {
    "ExecuteTime": {
     "end_time": "2023-10-31T13:24:12.206467Z",
     "start_time": "2023-10-31T13:24:11.983446Z"
    },
    "id": "RulgAYYb3c3V"
   },
   "outputs": [],
   "source": [
    "# Affichez la première image de `x_train` :\n",
    "print(\"y = \"+str(y_train[0])+\" (chiffre = \"+str(y_train_chiffres[0])+\")\")\n",
    "affichage(x_train[0])\n",
    "\n",
    "# Affichez la deuxième image de `x_train` :\n",
    "print(\"y = \"+str(y_train[1])+\", chiffre = \"+str(y_train_chiffres[1])+\")\")\n",
    "affichage(x_train[1])\n",
    "\n",
    "# Affichez la 9eme image de `x_train` :\n",
    "print(\"y = \"+str(y_train[10])+\", chiffre = \"+str(y_train_chiffres[10])+\")\")\n",
    "affichage(x_train[10])\n"
   ]
  },
  {
   "cell_type": "markdown",
   "metadata": {
    "id": "DCV8Mdf-3c3V"
   },
   "source": [
    "Pour visualiser les 10 premières images, utiliser la fonction `affichage_dix` :"
   ]
  },
  {
   "cell_type": "code",
   "execution_count": null,
   "metadata": {
    "ExecuteTime": {
     "end_time": "2023-10-30T14:40:19.081381Z",
     "start_time": "2023-10-30T14:40:18.695833Z"
    },
    "id": "ustc3Ft23c3V"
   },
   "outputs": [],
   "source": [
    "# Affiche les 10 premières images de x_train :\n",
    "affichage_dix(x_train)"
   ]
  },
  {
   "cell_type": "markdown",
   "metadata": {
    "id": "e83ZvsHa3c3W"
   },
   "source": [
    "## II.1 Choix a priori de la caractéristique"
   ]
  },
  {
   "cell_type": "markdown",
   "metadata": {
    "id": "j2SKqs3I3c3W"
   },
   "source": [
    "**Benchmark :** Proposition d'un caractéristiques utilisée comme référence"
   ]
  },
  {
   "cell_type": "code",
   "execution_count": null,
   "metadata": {
    "ExecuteTime": {
     "end_time": "2023-10-31T14:08:10.754709Z",
     "start_time": "2023-10-31T14:08:10.747213Z"
    },
    "id": "tUEDxxJU3c3W"
   },
   "outputs": [],
   "source": [
    "# Une fonction qui calcule et renvoi la caractéristique de l'image x\n",
    "\n",
    "def caracteristique(x):\n",
    "    c = moyenne(x)\n",
    "    return c"
   ]
  },
  {
   "cell_type": "markdown",
   "metadata": {
    "id": "HuYO9hLB3c3W"
   },
   "source": [
    "<b><font color=red> Après être allé jusqu’au bout de ce Notebook</font></b>, vous définirez votre propre caractéristique en modifiant les dernières cellules"
   ]
  },
  {
   "cell_type": "markdown",
   "metadata": {
    "id": "OHTGFKHE3c3X"
   },
   "source": [
    "## II.2 Classificateur"
   ]
  },
  {
   "cell_type": "markdown",
   "metadata": {
    "id": "HMKooa-A3c3X"
   },
   "source": [
    "**Algorithme de classification :**\n",
    "* On choisit un seuil noté `t`\n",
    "* On compare la caractéristique de l'image à `t` et on renvoi l'entier $-1$ ou $1$ :"
   ]
  },
  {
   "cell_type": "markdown",
   "metadata": {
    "id": "RSI2YQ-R3c3X"
   },
   "source": [
    "**Choix du seuil**\n",
    "Afficher les valeurs de caractéristiques pour des images de `x_train` :"
   ]
  },
  {
   "cell_type": "code",
   "execution_count": null,
   "metadata": {
    "ExecuteTime": {
     "end_time": "2023-10-31T13:59:04.037313Z",
     "start_time": "2023-10-31T13:59:03.666587Z"
    },
    "id": "iblf1QDP3c3Y"
   },
   "outputs": [],
   "source": [
    "affichage_dix(x_train)\n",
    "\n",
    "for i in range(10):\n",
    "    c = caracteristique(x_train[i])\n",
    "    y = y_train[i]\n",
    "    print('Image ' +str(i+1)+' : c(x) = '+str(round(c,2))+',   y = '+str(y)+'\\n')"
   ]
  },
  {
   "cell_type": "markdown",
   "metadata": {
    "id": "vghJR8WI3c3Y"
   },
   "source": [
    "<b><font color=red> D'après ces obervations, choisissez un seuil `s` et complétez la fonction classification :</font></b>"
   ]
  },
  {
   "cell_type": "code",
   "execution_count": null,
   "metadata": {
    "ExecuteTime": {
     "end_time": "2023-10-31T14:08:13.329359Z",
     "start_time": "2023-10-31T14:08:13.323216Z"
    },
    "id": "Hlud91vX3c3Y"
   },
   "outputs": [],
   "source": [
    "# Seuil à compléter :\n",
    "\n",
    "t = 34\n",
    "\n",
    "# Algorithme de classification :\n",
    "def classification(x, t):\n",
    "    c = caracteristique(x)\n",
    "    if c > t:\n",
    "        return -1\n",
    "    else:\n",
    "        return 1"
   ]
  },
  {
   "cell_type": "markdown",
   "metadata": {
    "id": "AJtdOOAh3c3m"
   },
   "source": [
    "## II.3 Calcul de l'erreur d'entraînement pour ce paramètre"
   ]
  },
  {
   "cell_type": "markdown",
   "metadata": {
    "id": "Id0M3qtb3c3m"
   },
   "source": [
    "Pour calculer l'erreur d'entraînement : \n",
    "- on calcule d'abord l'erreur par image\n",
    "- puis on calcule la moyenne des erreurs par images\n",
    "\n",
    "Notez que ces deux fonctions dépendent du paramètre ``t``.  "
   ]
  },
  {
   "cell_type": "markdown",
   "metadata": {
    "id": "XH6gKPwi3c3m"
   },
   "source": [
    "<b><font color=red> Exécuter la cellule suivante pour calculer votre erreur d'entraînement :</font></b>"
   ]
  },
  {
   "cell_type": "code",
   "execution_count": null,
   "metadata": {
    "ExecuteTime": {
     "end_time": "2023-10-31T14:08:16.015730Z",
     "start_time": "2023-10-31T14:08:15.869239Z"
    },
    "id": "aBfIA86U3c3m",
    "scrolled": true
   },
   "outputs": [],
   "source": [
    "# calcul de l'erreur d'entraienement grâce \n",
    "\n",
    "e_train = erreur_train(x_train, y_train, t, classification)\n",
    "print(\"\\n \\n --> Erreur d'entraînement =\", f\"{100*e_train:.2f}% \\n \\n\")"
   ]
  },
  {
   "cell_type": "markdown",
   "metadata": {
    "id": "1zX0UQm13c3n"
   },
   "source": [
    "Qu'en pensez-vous ? Nous allons maintenant chercher le paramètre s qui minimse la fonction erreur."
   ]
  },
  {
   "cell_type": "markdown",
   "metadata": {
    "id": "AJtdOOAh3c3m"
   },
   "source": [
    "## II.4 Minimisation de la fonction erreur"
   ]
  },
  {
   "cell_type": "markdown",
   "metadata": {
    "ExecuteTime": {
     "end_time": "2023-09-11T20:51:23.780522Z",
     "start_time": "2023-09-11T20:51:23.775389Z"
    }
   },
   "source": [
    "Pour trouver le meilleur paramètre ``s`` nous traçons la fonction $e_{train}(s)$ pour trouver son minimum. "
   ]
  },
  {
   "cell_type": "markdown",
   "metadata": {},
   "source": [
    "<b><font color=red> Exécuter la cellule suivante pour afficher la fonction erreur :</font></b>"
   ]
  },
  {
   "cell_type": "code",
   "execution_count": null,
   "metadata": {
    "ExecuteTime": {
     "end_time": "2023-10-31T14:08:20.271493Z",
     "start_time": "2023-10-31T14:08:18.835643Z"
    }
   },
   "outputs": [],
   "source": [
    "t_min = 0\n",
    "t_max = 80\n",
    "\n",
    "tracer_erreur(t_min, t_max, classification)"
   ]
  },
  {
   "cell_type": "markdown",
   "metadata": {},
   "source": [
    "<br>\n",
    " \n",
    "<b><font color=blue> 1. Quelle valeur de ``t`` pouvez prendre pour avoir le moins d'erreur ? </font></b>\n",
    "<br>\n",
    "\n",
    "<br>\n",
    "<b><font color=blue> 2. Retournez à la section II.2 pour mettre à jour la valeur de ``t`` et faites tourner les cellules de II.2 à II.3 pour afficher votre nouveau score. </font></b>\n",
    "<br>\n",
    "\n",
    "<br>\n",
    "<b><font color=blue> 3. Retournez à la section II.1 pour définir votre propre caractéristique et diminuer encore l'erreur.</font></b> <b><font color=red>Essayer d'obtenir l'erreur la plus faible possible ! </font></b>\n",
    "\n",
    "Pensez à optimiser la valeur de ``t`` pour chaque nouvelle caractéristique, et éventuellement à échanger les rôles de -1 et 1 dans le code de la fonction ``classification``. "
   ]
  },
  {
   "cell_type": "markdown",
   "metadata": {
    "id": "jZ6DBbq_3c3n"
   },
   "source": [
    "## II.4 Soumission sur la plateforme pour obtenir l'erreur de test\n"
   ]
  },
  {
   "cell_type": "markdown",
   "metadata": {
    "id": "Se74-rj13c3n"
   },
   "source": [
    "<b><font color=red>Une fois que vous être content de votre caractéristique,</font></b> exécuter la cellule suivante : "
   ]
  },
  {
   "cell_type": "code",
   "execution_count": null,
   "metadata": {
    "ExecuteTime": {
     "end_time": "2023-10-31T14:09:31.039792Z",
     "start_time": "2023-10-31T14:09:30.980275Z"
    },
    "id": "Wg-gCB4J3c3n"
   },
   "outputs": [],
   "source": [
    "y_est_test = []\n",
    "\n",
    "for x in x_test_2:\n",
    "    y_est_test.append(classification(x, t))\n",
    "\n",
    "# Sauvez et téléchargez vos estimations y_est_test, en entrant le nom du fichier que vous souhaitez\n",
    "sauver_et_telecharger_mnist_2(y_est_test, 'y_est_test_mnist2.csv')"
   ]
  },
  {
   "cell_type": "markdown",
   "metadata": {
    "id": "Memm_MC73c3o"
   },
   "source": [
    "<b><font color=red>Soumettez ce fichier .csv sur la plateforme Challenge Data</font></b> afin d'obtenir votre erreur de test en cliquant sur **[ce lien](https://challengedata.ens.fr/challenges/116)** (n'oubliez pas au préalable d'être bien connecté).\n",
    "\n",
    "Quelle est votre erreur de test ?"
   ]
  },
  {
   "cell_type": "code",
   "execution_count": null,
   "metadata": {
    "ExecuteTime": {
     "end_time": "2023-05-22T00:36:12.249089Z",
     "start_time": "2023-05-22T00:36:12.247570Z"
    },
    "id": "_1CAKE8V3c3X"
   },
   "outputs": [],
   "source": [
    "# Une fonction qui calcule et renvoie la caractéristique de l'image x\n",
    "\n",
    "def caracteristique(x):\n",
    "\n",
    "    c = ...\n",
    "\n",
    "    return c"
   ]
  }
 ],
 "metadata": {
  "colab": {
   "provenance": []
  },
  "kernelspec": {
   "display_name": "Python 3",
   "language": "python",
   "name": "python3"
  },
  "language_info": {
   "codemirror_mode": {
    "name": "ipython",
    "version": 3
   },
   "file_extension": ".py",
   "mimetype": "text/x-python",
   "name": "python",
   "nbconvert_exporter": "python",
   "pygments_lexer": "ipython3",
   "version": "3.8.8"
  }
 },
 "nbformat": 4,
 "nbformat_minor": 1
}
