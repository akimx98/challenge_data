{
 "cells": [
  {
   "cell_type": "markdown",
   "metadata": {},
   "source": [
    "# Challenge Data - Module introduction à l'IA"
   ]
  },
  {
   "cell_type": "markdown",
   "metadata": {},
   "source": [
    "## Classification des images de 2 et de 7"
   ]
  },
  {
   "cell_type": "markdown",
   "metadata": {
    "id": "foelAg3Z3c3L"
   },
   "source": [
    "# I. Visualisation des données"
   ]
  },
  {
   "cell_type": "markdown",
   "metadata": {
    "id": "dDLe_OeD3c3M"
   },
   "source": [
    "On commence par importer les données dont nous aurons besoin :"
   ]
  },
  {
   "cell_type": "code",
   "execution_count": 1,
   "metadata": {
    "ExecuteTime": {
     "end_time": "2023-12-12T16:25:15.111355Z",
     "start_time": "2023-12-12T16:25:07.582368Z"
    },
    "id": "hEG4CkRf3c3N"
   },
   "outputs": [
    {
     "name": "stderr",
     "output_type": "stream",
     "text": [
      "/Users/akim/opt/anaconda3/lib/python3.8/site-packages/scipy/__init__.py:138: UserWarning: A NumPy version >=1.16.5 and <1.23.0 is required for this version of SciPy (detected version 1.24.3)\n",
      "  warnings.warn(f\"A NumPy version >={np_minversion} and <{np_maxversion} is required for this version of \"\n"
     ]
    }
   ],
   "source": [
    "from utilitaires_mnist_2 import *"
   ]
  },
  {
   "cell_type": "markdown",
   "metadata": {
    "id": "pRpcPiSj3c3P"
   },
   "source": [
    "## I.1 Rappels Python"
   ]
  },
  {
   "cell_type": "markdown",
   "metadata": {
    "id": "WGTnsIJr3c3P"
   },
   "source": [
    "### Le type list\n",
    "\n",
    "On définit une liste à l'aide de crochets (rajoutez des print après chaque définition)  :"
   ]
  },
  {
   "cell_type": "code",
   "execution_count": 1,
   "metadata": {
    "ExecuteTime": {
     "end_time": "2023-12-12T16:25:29.338129Z",
     "start_time": "2023-12-12T16:25:29.333954Z"
    },
    "id": "mj-OhmlA3c3P"
   },
   "outputs": [],
   "source": [
    "# liste vide :\n",
    "liste_vide = []\n",
    "# une liste peut contenir des nombres :\n",
    "liste = [1, 5.4, -3]"
   ]
  },
  {
   "cell_type": "markdown",
   "metadata": {
    "id": "fThTZLuX3c3Q"
   },
   "source": [
    "On accède à l'élément $i$ d'une liste en faisant\n",
    "`ma_liste[i]`."
   ]
  },
  {
   "cell_type": "markdown",
   "metadata": {
    "ExecuteTime": {
     "end_time": "2023-04-13T15:03:55.459584Z",
     "start_time": "2023-04-13T15:03:55.449099Z"
    },
    "id": "afG4WWLz3c3Q"
   },
   "source": [
    "<div class=\"alert alert-block alert-warning\">\n",
    "<b>⚠️ Attention  :</b> En Python les indices sont comptés à partir de 0, le premier élément d'une liste est donc liste[0].\n",
    "</div>"
   ]
  },
  {
   "cell_type": "markdown",
   "metadata": {
    "id": "YHPTCLOt3c3R"
   },
   "source": [
    "Avec la fonction `print(...)`, afficher le premier élément de la liste `liste`` :"
   ]
  },
  {
   "cell_type": "code",
   "execution_count": null,
   "metadata": {
    "ExecuteTime": {
     "end_time": "2023-05-22T00:36:11.806201Z",
     "start_time": "2023-05-22T00:36:11.803401Z"
    },
    "id": "Q778fuqj3c3R"
   },
   "outputs": [],
   "source": [
    "# Afficher le premier élément de la liste\n",
    "..."
   ]
  },
  {
   "cell_type": "markdown",
   "metadata": {},
   "source": []
  },
  {
   "cell_type": "markdown",
   "metadata": {
    "id": "-5PVAB0I3c3R"
   },
   "source": [
    "Pour ajouter des éléments à une liste, on peut utiliser la méthode `append` :"
   ]
  },
  {
   "cell_type": "code",
   "execution_count": null,
   "metadata": {
    "ExecuteTime": {
     "end_time": "2023-05-22T00:36:11.810294Z",
     "start_time": "2023-05-22T00:36:11.807729Z"
    },
    "id": "9WoqfFO33c3S"
   },
   "outputs": [],
   "source": [
    "# Ajouter \"8\" à la liste\n",
    "..."
   ]
  },
  {
   "cell_type": "markdown",
   "metadata": {
    "id": "HgM3SnaB3c3S"
   },
   "source": [
    "## I.2 Image numérique"
   ]
  },
  {
   "cell_type": "markdown",
   "metadata": {
    "id": "47VxwOmd3c3T"
   },
   "source": [
    "Une image en niveaux de gris : tableau 2D de $28 \\times 28$ pixels. La valeur de chaque pixel est un entier compris entre 0 et 255.\n",
    "\n",
    "Nous avons créé une fonction `affichage`, vous pouvez directement l'appliquer à la variable `x` :"
   ]
  },
  {
   "cell_type": "code",
   "execution_count": 3,
   "metadata": {
    "ExecuteTime": {
     "end_time": "2023-12-12T16:25:33.246916Z",
     "start_time": "2023-12-12T16:25:33.151677Z"
    },
    "id": "NoIjVSaG3c3T"
   },
   "outputs": [
    {
     "data": {
      "image/png": "[encoded data removed]",
      "text/plain": [
       "<Figure size 300x300 with 1 Axes>"
      ]
     },
     "metadata": {
      "needs_background": "light"
     },
     "output_type": "display_data"
    }
   ],
   "source": [
    "# Affichez l'image x :\n",
    "affichage(x)"
   ]
  },
  {
   "cell_type": "markdown",
   "metadata": {
    "id": "fA7jCyVq3c3T"
   },
   "source": [
    "### Accéder à un pixel particulier\n",
    "\n",
    "On accède à la valeur du pixel $(i,j)$ à la $i+1$-ème ligne et $j+1$-ème colonne par la commande `x[i,j]`. Par exemple, pour accéder à la valeur du pixel central (14,14) on écrit simplement `x[14,14]`. On peut ensuite afficher cette valeur avec `print`."
   ]
  },
  {
   "cell_type": "code",
   "execution_count": null,
   "metadata": {
    "ExecuteTime": {
     "end_time": "2023-10-30T14:05:48.701038Z",
     "start_time": "2023-10-30T14:05:48.694775Z"
    },
    "id": "Q9zMMsIA3c3U"
   },
   "outputs": [],
   "source": [
    "# Valeur du pixel (14,14) : \n",
    "pixel_central = ...\n",
    "\n",
    "print(pixel_central)"
   ]
  },
  {
   "cell_type": "markdown",
   "metadata": {
    "id": "E-S5eGpL3c3U"
   },
   "source": [
    "### Accéder à une « tranche » de pixels\n",
    "\n",
    "* `x[a:b,c:d]` extrait les pixels appartenant aux lignes `a` à `b-1` (inclus) et colonnes `c` à `d-1` (inclus).\n",
    "* `x[a:b,c:d]` est un tableau de taille $(b-a) \\times (d-c)$.\n",
    "* Pour récupérer tous les pixels de `x` appartenant aux colonnes `c` à `d-1`, on utilise `x[:,c:d]`; et `x[a:b,:]` pour tous les pixels appartenant aux lignes `a` à `b-1`.\n",
    "\n",
    "<b><font color=red> Écrire une ligne de code pour afficher uniquement les colonnes 11 à 23 de l'image $x$ :</font></b>"
   ]
  },
  {
   "cell_type": "code",
   "execution_count": null,
   "metadata": {
    "ExecuteTime": {
     "end_time": "2023-05-22T00:36:11.896092Z",
     "start_time": "2023-05-22T00:36:11.894771Z"
    },
    "id": "FPzEWa553c3U"
   },
   "outputs": [],
   "source": [
    "# Visualisez les colonnes 11 à 23 de l'image x :\n",
    "..."
   ]
  },
  {
   "cell_type": "code",
   "execution_count": null,
   "metadata": {
    "ExecuteTime": {
     "end_time": "2023-05-22T00:36:11.899257Z",
     "start_time": "2023-05-22T00:36:11.897786Z"
    },
    "id": "aQkwORvn3c3U",
    "scrolled": true
   },
   "outputs": [],
   "source": [
    "# Affichez directement la valeur des pixels des colonnes 11 à 23 de l'image x :\n",
    "colonnes_centrales = \n",
    "\n",
    "print(colonnes_centrales)"
   ]
  },
  {
   "cell_type": "markdown",
   "metadata": {
    "id": "m8H5uwBG3c3V"
   },
   "source": [
    "# II. Challenge : classer les chiffres 2 et 7"
   ]
  },
  {
   "cell_type": "markdown",
   "metadata": {},
   "source": [
    "**On a deux classes d'images :**\n",
    "- la classe des chiffres $2$ : **classe -1**\n",
    "- la classe des chiffres $7$ : **classe 1**"
   ]
  },
  {
   "cell_type": "markdown",
   "metadata": {
    "id": "DCV8Mdf-3c3V"
   },
   "source": [
    "Pour visualiser les 10 premières images, utiliser la fonction `affichage_dix` :"
   ]
  },
  {
   "cell_type": "code",
   "execution_count": null,
   "metadata": {
    "ExecuteTime": {
     "end_time": "2023-12-12T16:25:38.890941Z",
     "start_time": "2023-12-12T16:25:38.554028Z"
    },
    "id": "ustc3Ft23c3V"
   },
   "outputs": [],
   "source": [
    "# Affiche les 10 premières images de x_train :\n",
    "affichage_dix(x_train)"
   ]
  },
  {
   "cell_type": "markdown",
   "metadata": {
    "id": "e83ZvsHa3c3W"
   },
   "source": [
    "## II.1 Choix a priori de la caractéristique"
   ]
  },
  {
   "cell_type": "markdown",
   "metadata": {
    "id": "j2SKqs3I3c3W"
   },
   "source": [
    "**Benchmark :** Proposition d'un caractéristiques utilisée comme référence"
   ]
  },
  {
   "cell_type": "code",
   "execution_count": 3,
   "metadata": {
    "ExecuteTime": {
     "end_time": "2023-12-12T16:25:45.604204Z",
     "start_time": "2023-12-12T16:25:45.599815Z"
    },
    "id": "tUEDxxJU3c3W"
   },
   "outputs": [],
   "source": [
    "# Une fonction qui calcule et renvoi la caractéristique de l'image x\n",
    "\n",
    "def caracteristique(x):\n",
    "    c = moyenne(x)\n",
    "    return c"
   ]
  },
  {
   "cell_type": "markdown",
   "metadata": {
    "id": "HuYO9hLB3c3W"
   },
   "source": [
    "Après avoir obtenu l'erreur d'entraînement sur cette caractéristique, <b><font color=red>vous définirez votre propre caractéristique pour faire mieux.</font></b>"
   ]
  },
  {
   "cell_type": "markdown",
   "metadata": {
    "id": "OHTGFKHE3c3X"
   },
   "source": [
    "## II.2 Classificateur"
   ]
  },
  {
   "cell_type": "markdown",
   "metadata": {
    "id": "HMKooa-A3c3X"
   },
   "source": [
    "**Algorithme de classification :**\n",
    "* On choisit un seuil noté  `t`\n",
    "* On compare la caractéristique de l'image à `t` et on renvoit l'entier $-1$ ou $1$ :"
   ]
  },
  {
   "cell_type": "markdown",
   "metadata": {
    "id": "RSI2YQ-R3c3X"
   },
   "source": [
    "**Choix du seuil**\n",
    "\n",
    "Afficher les valeurs de caractéristiques pour des images de `x_train` :"
   ]
  },
  {
   "cell_type": "code",
   "execution_count": null,
   "metadata": {
    "ExecuteTime": {
     "end_time": "2023-12-12T16:25:48.322536Z",
     "start_time": "2023-12-12T16:25:48.040701Z"
    },
    "id": "iblf1QDP3c3Y"
   },
   "outputs": [],
   "source": [
    "affichage_dix(x_train)\n",
    "\n",
    "for i in range(10):\n",
    "    c = caracteristique(x_train[i])\n",
    "    y = y_train[i]\n",
    "    print('Image ' +str(i+1)+' : c(x) = '+str(round(c,2))+',   y = '+str(y)+'\\n')"
   ]
  },
  {
   "cell_type": "markdown",
   "metadata": {
    "id": "vghJR8WI3c3Y"
   },
   "source": [
    "<b><font color=red> D'après ces obervations, choisissez un seuil `t` et complétez la fonction classification :</font></b>"
   ]
  },
  {
   "cell_type": "code",
   "execution_count": null,
   "metadata": {
    "ExecuteTime": {
     "end_time": "2023-12-12T16:26:07.730320Z",
     "start_time": "2023-12-12T16:26:07.725903Z"
    }
   },
   "outputs": [],
   "source": [
    "# Seuil à compléter :\n",
    "\n",
    "t = ..."
   ]
  },
  {
   "cell_type": "markdown",
   "metadata": {
    "ExecuteTime": {
     "end_time": "2023-04-13T15:03:55.459584Z",
     "start_time": "2023-04-13T15:03:55.449099Z"
    },
    "id": "afG4WWLz3c3Q"
   },
   "source": [
    "<div class=\"alert alert-block alert-warning\">\n",
    "<b>⚠️ Attention  :</b> cette fonction doit calculer $\\hat y$ <b>l'estimation de la classe </b> de $x$, donc $-1$ pour les images de $2$ et $1$ pour les images de $7$.\n",
    "</div>"
   ]
  },
  {
   "cell_type": "code",
   "execution_count": 2,
   "metadata": {
    "ExecuteTime": {
     "end_time": "2023-12-12T16:26:36.656180Z",
     "start_time": "2023-12-12T16:26:36.651943Z"
    },
    "id": "Hlud91vX3c3Y"
   },
   "outputs": [],
   "source": [
    "# Algorithme de classification à compléter :\n",
    "\n",
    "def classification(x, t):\n",
    "    c = caracteristique(x)\n",
    "    if c > t:\n",
    "        return ...\n",
    "    else:\n",
    "        return ..."
   ]
  },
  {
   "cell_type": "markdown",
   "metadata": {
    "id": "AJtdOOAh3c3m"
   },
   "source": [
    "## II.3 Calcul de l'erreur d'entraînement pour ce paramètre"
   ]
  },
  {
   "cell_type": "markdown",
   "metadata": {
    "id": "Id0M3qtb3c3m"
   },
   "source": [
    "L'erreur d'entraînement est la proportion d'images que le classificateur classe mal.  C'est donc :\n",
    "\n",
    " \n",
    "  \n",
    "$$\n",
    "e_{train}(t) = \\frac{\\text{Nombre d'images d'entraînement mal classées}} {\\text{Nombre d'images d'entraînement}}\n",
    "$$\n",
    " \n",
    "\n",
    "Notez que cette fonction dépend du paramètre ``t``.  "
   ]
  },
  {
   "cell_type": "markdown",
   "metadata": {
    "id": "XH6gKPwi3c3m"
   },
   "source": [
    "<b><font color=red> Exécuter la cellule suivante pour calculer votre erreur d'entraînement :</font></b>"
   ]
  },
  {
   "cell_type": "code",
   "execution_count": null,
   "metadata": {
    "ExecuteTime": {
     "end_time": "2023-12-12T16:26:40.992361Z",
     "start_time": "2023-12-12T16:26:40.869200Z"
    },
    "id": "aBfIA86U3c3m",
    "scrolled": true
   },
   "outputs": [],
   "source": [
    "# calcul de l'erreur d'entraienement grâce \n",
    "\n",
    "e_train = erreur_train(x_train, y_train, t, classification)\n",
    "print(\"\\n \\n --> Erreur d'entraînement =\", f\"{100*e_train:.2f}% \\n \\n\")"
   ]
  },
  {
   "cell_type": "markdown",
   "metadata": {
    "id": "1zX0UQm13c3n"
   },
   "source": [
    "Qu'en pensez-vous ? Nous allons maintenant chercher le paramètre `t` qui minimse la fonction erreur."
   ]
  },
  {
   "cell_type": "markdown",
   "metadata": {
    "id": "AJtdOOAh3c3m"
   },
   "source": [
    "## II.4 Minimisation de la fonction erreur"
   ]
  },
  {
   "cell_type": "markdown",
   "metadata": {
    "ExecuteTime": {
     "end_time": "2023-09-11T20:51:23.780522Z",
     "start_time": "2023-09-11T20:51:23.775389Z"
    }
   },
   "source": [
    "Pour trouver le meilleur paramètre ``t`` nous traçons la fonction $e_{train}(t)$ pour trouver son minimum. "
   ]
  },
  {
   "cell_type": "markdown",
   "metadata": {},
   "source": [
    "<b><font color=red> Exécuter la cellule suivante pour afficher la fonction erreur :</font></b>"
   ]
  },
  {
   "cell_type": "code",
   "execution_count": 5,
   "metadata": {
    "ExecuteTime": {
     "end_time": "2023-12-12T16:26:50.272815Z",
     "start_time": "2023-12-12T16:26:48.871926Z"
    }
   },
   "outputs": [
    {
     "data": {
      "image/png": "[encoded data removed]",
      "text/plain": [
       "<Figure size 1050x600 with 1 Axes>"
      ]
     },
     "metadata": {
      "needs_background": "light"
     },
     "output_type": "display_data"
    }
   ],
   "source": [
    "t_min = 0\n",
    "t_max = 70\n",
    "\n",
    "tracer_erreur(t_min, t_max, classification)"
   ]
  },
  {
   "cell_type": "markdown",
   "metadata": {},
   "source": [
    "<b><font color=blue> 1. Quelle valeur de ``t`` pouvez prendre pour avoir le moins d'erreur ? </font></b>\n",
    "<br>\n",
    "\n",
    "<br>\n",
    "<b><font color=blue> 2. Complétez la cellule suivante avec ce seuil et exécutez les 2 cellules suivantes pour obtenir votre nouvelle erreur d'entraînement : "
   ]
  },
  {
   "cell_type": "code",
   "execution_count": null,
   "metadata": {
    "ExecuteTime": {
     "end_time": "2023-12-12T16:27:05.632256Z",
     "start_time": "2023-12-12T16:27:05.628239Z"
    }
   },
   "outputs": [],
   "source": [
    "# Nouveau seuil à compléter, d'après la figure précédente :\n",
    "\n",
    "t = ..."
   ]
  },
  {
   "cell_type": "code",
   "execution_count": null,
   "metadata": {
    "ExecuteTime": {
     "end_time": "2023-12-12T16:27:06.797631Z",
     "start_time": "2023-12-12T16:27:06.682781Z"
    },
    "id": "aBfIA86U3c3m",
    "scrolled": true
   },
   "outputs": [],
   "source": [
    "# Calcul de l'erreur d'entraienement avec ce nouveau seuil :  \n",
    "\n",
    "e_train = erreur_train(x_train, y_train, t, classification)\n",
    "print(\"\\n \\n --> Erreur d'entraînement =\", f\"{100*e_train:.2f}% \\n \\n\")"
   ]
  },
  {
   "cell_type": "markdown",
   "metadata": {
    "id": "jZ6DBbq_3c3n"
   },
   "source": [
    "## II.5 Amélioration de la caractéristique : faites mieux !\n"
   ]
  },
  {
   "cell_type": "markdown",
   "metadata": {
    "ExecuteTime": {
     "end_time": "2023-09-11T20:51:23.780522Z",
     "start_time": "2023-09-11T20:51:23.775389Z"
    }
   },
   "source": [
    "<b><font color=blue>Pour diminuer encore l'erreur, vous allez définir votre propre caractéristique. Utilisez les propriétés des images pour inventer une caractéristique qui fait le moins d'erreur possible ! </font></b>"
   ]
  },
  {
   "cell_type": "markdown",
   "metadata": {},
   "source": [
    "### 1. Définissez dans la cellule suivante votre caractéristique :"
   ]
  },
  {
   "cell_type": "code",
   "execution_count": null,
   "metadata": {
    "ExecuteTime": {
     "end_time": "2023-12-12T16:51:47.025252Z",
     "start_time": "2023-12-12T16:51:47.014038Z"
    }
   },
   "outputs": [],
   "source": [
    "# Votre propre caractéristique : \n",
    "\n",
    "def caracteristique(x):\n",
    "    \n",
    "    ...\n",
    "\n",
    "    return ..."
   ]
  },
  {
   "cell_type": "markdown",
   "metadata": {},
   "source": [
    "### 2. Réglez la fonction classification : "
   ]
  },
  {
   "cell_type": "markdown",
   "metadata": {},
   "source": [
    "Afficher en excécutant la cellule suivante les valeurs de votre caractéristique pour 10 images : "
   ]
  },
  {
   "cell_type": "code",
   "execution_count": null,
   "metadata": {
    "ExecuteTime": {
     "end_time": "2023-12-12T16:51:47.823454Z",
     "start_time": "2023-12-12T16:51:47.544974Z"
    },
    "id": "iblf1QDP3c3Y"
   },
   "outputs": [],
   "source": [
    "affichage_dix(x_train)\n",
    "\n",
    "for i in range(10):\n",
    "    c = caracteristique(x_train[i])\n",
    "    y = y_train[i]\n",
    "    print('Image ' +str(i+1)+' : c(x) = '+str(round(c,2))+',   y = '+str(y)+'\\n')"
   ]
  },
  {
   "cell_type": "markdown",
   "metadata": {},
   "source": [
    "En déduire comment compléter la fonction de classification : "
   ]
  },
  {
   "cell_type": "code",
   "execution_count": null,
   "metadata": {
    "ExecuteTime": {
     "end_time": "2023-12-12T16:51:53.072444Z",
     "start_time": "2023-12-12T16:51:53.067943Z"
    },
    "id": "Hlud91vX3c3Y"
   },
   "outputs": [],
   "source": [
    "# Algorithme de classification à compléter :\n",
    "\n",
    "def classification(x, t):\n",
    "    c = caracteristique(x)\n",
    "    if c > t:\n",
    "        return ...\n",
    "    else:\n",
    "        return ..."
   ]
  },
  {
   "cell_type": "markdown",
   "metadata": {},
   "source": [
    "### 3. Choisir un seuil qui minimise la fonction erreur : "
   ]
  },
  {
   "cell_type": "code",
   "execution_count": null,
   "metadata": {
    "ExecuteTime": {
     "end_time": "2023-12-12T16:52:01.497714Z",
     "start_time": "2023-12-12T16:52:00.179096Z"
    }
   },
   "outputs": [],
   "source": [
    "# Changer t_min et t_max si besoin, pour l'affichage de la courbe d'erreur\n",
    "t_min = 0\n",
    "t_max = 80\n",
    "\n",
    "tracer_erreur(t_min, t_max, classification)"
   ]
  },
  {
   "cell_type": "code",
   "execution_count": null,
   "metadata": {
    "ExecuteTime": {
     "end_time": "2023-12-12T16:52:10.899694Z",
     "start_time": "2023-12-12T16:52:10.896909Z"
    }
   },
   "outputs": [],
   "source": [
    "# Seuil à compléter :\n",
    "\n",
    "t = ..."
   ]
  },
  {
   "cell_type": "code",
   "execution_count": null,
   "metadata": {
    "ExecuteTime": {
     "end_time": "2023-12-12T16:52:12.040955Z",
     "start_time": "2023-12-12T16:52:11.925495Z"
    },
    "id": "aBfIA86U3c3m",
    "scrolled": true
   },
   "outputs": [],
   "source": [
    "# Calcul de l'erreur d'entraienement avec ce nouveau seuil :  \n",
    "\n",
    "e_train = erreur_train(x_train, y_train, t, classification)\n",
    "print(\"\\n \\n --> Erreur d'entraînement avec ma caractéristique =\", f\"{100*e_train:.2f}% \\n \\n\")"
   ]
  },
  {
   "cell_type": "markdown",
   "metadata": {
    "id": "jZ6DBbq_3c3n"
   },
   "source": [
    "## II.6 Soumission sur la plateforme pour obtenir l'erreur de test\n"
   ]
  },
  {
   "cell_type": "markdown",
   "metadata": {
    "id": "Se74-rj13c3n"
   },
   "source": [
    "<b><font color=red>Une fois que vous être content de votre caractéristique,</font></b> exécuter la cellule suivante : "
   ]
  },
  {
   "cell_type": "code",
   "execution_count": null,
   "metadata": {
    "ExecuteTime": {
     "end_time": "2023-12-12T16:52:15.799678Z",
     "start_time": "2023-12-12T16:52:15.752322Z"
    },
    "id": "Wg-gCB4J3c3n"
   },
   "outputs": [],
   "source": [
    "y_est_test = []\n",
    "\n",
    "for x in x_test_2:\n",
    "    y_est_test.append(classification(x, t))\n",
    "\n",
    "# Sauvez et téléchargez vos estimations y_est_test, en entrant le nom du fichier que vous souhaitez\n",
    "sauver_et_telecharger_mnist_2(y_est_test, 'y_est_test_mnist2.csv')"
   ]
  },
  {
   "cell_type": "markdown",
   "metadata": {
    "id": "Memm_MC73c3o"
   },
   "source": [
    "<b><font color=red>Soumettez ce fichier .csv sur la plateforme Challenge Data</font></b> afin d'obtenir votre erreur de test en cliquant sur **[ce lien](https://challengedata.ens.fr/challenges/116)** (n'oubliez pas au préalable d'être bien connecté).\n",
    "\n",
    "Quelle est votre erreur de test ?"
   ]
  }
 ],
 "metadata": {
  "colab": {
   "provenance": []
  },
  "kernelspec": {
   "display_name": "Python 3",
   "language": "python",
   "name": "python3"
  },
  "language_info": {
   "codemirror_mode": {
    "name": "ipython",
    "version": 3
   },
   "file_extension": ".py",
   "mimetype": "text/x-python",
   "name": "python",
   "nbconvert_exporter": "python",
   "pygments_lexer": "ipython3",
   "version": "3.8.8"
  }
 },
 "nbformat": 4,
 "nbformat_minor": 1
}
