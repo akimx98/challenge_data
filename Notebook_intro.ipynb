{
 "cells": [
  {
   "cell_type": "markdown",
   "metadata": {},
   "source": [
    "# MathAData - Module introduction à l'IA"
   ]
  },
  {
   "cell_type": "markdown",
   "metadata": {},
   "source": [
    "## Classification des images de 2 et de 7"
   ]
  },
  {
   "cell_type": "markdown",
   "metadata": {},
   "source": [
    "# I. Visualisation des données"
   ]
  },
  {
   "cell_type": "markdown",
   "metadata": {},
   "source": [
    "On commence par importer les données dont nous aurons besoin :"
   ]
  },
  {
   "cell_type": "code",
   "execution_count": null,
   "metadata": {},
   "outputs": [],
   "source": [
    "from utilitaires_mnist_2 import *"
   ]
  },
  {
   "cell_type": "markdown",
   "metadata": {},
   "source": [
    "## I.1 Rappels Python"
   ]
  },
  {
   "cell_type": "markdown",
   "metadata": {},
   "source": [
    "### Le type list\n",
    "\n",
    "On définit une liste à l'aide de crochets (rajoutez des print après chaque définition)  :"
   ]
  },
  {
   "cell_type": "code",
   "execution_count": null,
   "metadata": {},
   "outputs": [],
   "source": [
    "# liste vide :\n",
    "liste_vide = []\n",
    "# une liste peut contenir des nombres :\n",
    "liste = [1, 5.4, -3]"
   ]
  },
  {
   "cell_type": "markdown",
   "metadata": {},
   "source": [
    "On accède à l'élément $i$ d'une liste en faisant\n",
    "`ma_liste[i]`."
   ]
  },
  {
   "cell_type": "markdown",
   "metadata": {},
   "source": [
    "<div class=\"alert alert-block alert-warning\">\n",
    "<b>⚠️ Attention  :</b> En Python les indices sont comptés à partir de 0, le premier élément d'une liste est donc liste[0].\n",
    "</div>"
   ]
  },
  {
   "cell_type": "markdown",
   "metadata": {},
   "source": [
    "Avec la fonction `print(...)`, afficher le premier élément de la liste `liste`` :"
   ]
  },
  {
   "cell_type": "code",
   "execution_count": null,
   "metadata": {},
   "outputs": [],
   "source": [
    "# Afficher le premier élément de la liste\n",
    "..."
   ]
  },
  {
   "cell_type": "markdown",
   "metadata": {},
   "source": [
    "Pour ajouter des éléments à une liste, on peut utiliser la méthode `append` :"
   ]
  },
  {
   "cell_type": "code",
   "execution_count": null,
   "metadata": {},
   "outputs": [],
   "source": [
    "# Ajouter \"8\" à la liste\n",
    "..."
   ]
  },
  {
   "cell_type": "markdown",
   "metadata": {},
   "source": [
    "## I.2 Image numérique"
   ]
  },
  {
   "cell_type": "markdown",
   "metadata": {},
   "source": [
    "Une image en niveaux de gris : tableau 2D de $28 \\times 28$ pixels. La valeur de chaque pixel est un entier compris entre 0 et 255.\n",
    "\n",
    "Nous avons créé une fonction `affichage`, vous pouvez directement l'appliquer à la variable `x` :"
   ]
  },
  {
   "cell_type": "code",
   "execution_count": null,
   "metadata": {},
   "outputs": [],
   "source": [
    "# Affichez l'image x :\n",
    "affichage(x)"
   ]
  },
  {
   "cell_type": "markdown",
   "metadata": {},
   "source": [
    "### Accéder à un pixel particulier\n",
    "\n",
    "On accède à la valeur du pixel $(i,j)$ à la $i+1$-ème ligne et $j+1$-ème colonne par la commande `x[i,j]`. Par exemple, pour accéder à la valeur du pixel central (14,14) on écrit simplement `x[14,14]`. On peut ensuite afficher cette valeur avec `print`."
   ]
  },
  {
   "cell_type": "code",
   "execution_count": null,
   "metadata": {},
   "outputs": [],
   "source": [
    "# Valeur du pixel (14,14) : \n",
    "pixel_central = ...\n",
    "\n",
    "print(pixel_central)"
   ]
  },
  {
   "cell_type": "markdown",
   "metadata": {},
   "source": [
    "### Accéder à une « tranche » de pixels\n",
    "\n",
    "* `x[a:b,c:d]` extrait les pixels appartenant aux lignes `a` à `b-1` (inclus) et colonnes `c` à `d-1` (inclus).\n",
    "* `x[a:b,c:d]` est un tableau de taille $(b-a) \\times (d-c)$.\n",
    "* Pour récupérer tous les pixels de `x` appartenant aux colonnes `c` à `d-1`, on utilise `x[:,c:d]`; et `x[a:b,:]` pour tous les pixels appartenant aux lignes `a` à `b-1`.\n",
    "\n",
    "<b><font color=red> Écrire une ligne de code pour afficher uniquement les colonnes 11 à 23 de l'image $x$ :</font></b>"
   ]
  },
  {
   "cell_type": "code",
   "execution_count": null,
   "metadata": {},
   "outputs": [],
   "source": [
    "# Visualisez les colonnes 11 à 23 de l'image x :\n",
    "..."
   ]
  },
  {
   "cell_type": "code",
   "execution_count": null,
   "metadata": {},
   "outputs": [],
   "source": [
    "# Affichez directement la valeur des pixels des colonnes 11 à 23 de l'image x :\n",
    "colonnes_centrales = ...\n",
    "\n",
    "print(colonnes_centrales)"
   ]
  },
  {
   "cell_type": "markdown",
   "metadata": {},
   "source": [
    "# II. Challenge : classer les chiffres 2 et 7"
   ]
  },
  {
   "cell_type": "markdown",
   "metadata": {},
   "source": [
    "**On a deux classes d'images :**\n",
    "- la classe des chiffres $2$ : **classe -1**\n",
    "- la classe des chiffres $7$ : **classe 1**"
   ]
  },
  {
   "cell_type": "markdown",
   "metadata": {},
   "source": [
    "Pour visualiser les 10 premières images, utiliser la fonction `affichage_dix` :"
   ]
  },
  {
   "cell_type": "code",
   "execution_count": null,
   "metadata": {},
   "outputs": [],
   "source": [
    "# Affiche les 10 premières images de x_train :\n",
    "affichage_dix(x_train)"
   ]
  },
  {
   "cell_type": "markdown",
   "metadata": {},
   "source": [
    "## II.1 Choix a priori de la caractéristique"
   ]
  },
  {
   "cell_type": "markdown",
   "metadata": {},
   "source": [
    "**Benchmark :** Proposition d'un caractéristiques utilisée comme référence"
   ]
  },
  {
   "cell_type": "code",
   "execution_count": null,
   "metadata": {},
   "outputs": [],
   "source": [
    "# Une fonction qui calcule et renvoi la caractéristique de l'image x\n",
    "\n",
    "def caracteristique(x):\n",
    "    k = moyenne(x)\n",
    "    return k"
   ]
  },
  {
   "cell_type": "markdown",
   "metadata": {},
   "source": [
    "Après avoir obtenu l'erreur d'entraînement sur cette caractéristique, <b><font color=red>vous définirez votre propre caractéristique pour faire mieux.</font></b>"
   ]
  },
  {
   "cell_type": "markdown",
   "metadata": {},
   "source": [
    "## II.2 Classificateur"
   ]
  },
  {
   "cell_type": "markdown",
   "metadata": {},
   "source": [
    "**Algorithme de classification :**\n",
    "* On choisit un seuil noté  `t`\n",
    "* On compare la caractéristique de l'image à `t` et on renvoit l'entier $-1$ ou $1$ :"
   ]
  },
  {
   "cell_type": "markdown",
   "metadata": {},
   "source": [
    "**Choix du seuil**\n",
    "\n",
    "Afficher les valeurs de caractéristiques pour des images de `x_train` :"
   ]
  },
  {
   "cell_type": "code",
   "execution_count": null,
   "metadata": {},
   "outputs": [],
   "source": [
    "affichage_dix(x_train)\n",
    "\n",
    "for i in range(10):\n",
    "    k = caracteristique(x_train[i])\n",
    "    y = y_train[i]\n",
    "    print('Image ' +str(i+1)+' : k(x) = '+str(round(k,2))+',   y = '+str(y)+'\\n')"
   ]
  },
  {
   "cell_type": "markdown",
   "metadata": {},
   "source": [
    "<b><font color=red> D'après ces obervations, choisissez un seuil `t` et complétez la fonction classification :</font></b>"
   ]
  },
  {
   "cell_type": "code",
   "execution_count": null,
   "metadata": {},
   "outputs": [],
   "source": [
    "# Seuil à compléter :\n",
    "\n",
    "t = ..."
   ]
  },
  {
   "cell_type": "markdown",
   "metadata": {},
   "source": [
    "<div class=\"alert alert-block alert-warning\">\n",
    "<b>⚠️ Attention  :</b> cette fonction doit calculer <b>l'estimation de la classe </b> de x, donc -1 pour les images de 2 et 1 pour les images de 7.\n",
    "</div>"
   ]
  },
  {
   "cell_type": "code",
   "execution_count": null,
   "metadata": {},
   "outputs": [],
   "source": [
    "# Algorithme de classification à compléter :\n",
    "\n",
    "def classification(x, t):\n",
    "    k = caracteristique(x)\n",
    "    if k > t:\n",
    "        return ...\n",
    "    else:\n",
    "        return ..."
   ]
  },
  {
   "cell_type": "markdown",
   "metadata": {},
   "source": [
    "## II.3 Calcul de l'erreur d'entraînement pour ce paramètre"
   ]
  },
  {
   "cell_type": "markdown",
   "metadata": {},
   "source": [
    "L'erreur d'entraînement est la proportion d'images que le classificateur classe mal.  C'est donc :\n",
    "\n",
    " \n",
    "  \n",
    "$$\n",
    "e_{train}(t) = \\frac{\\text{Nombre d'images d'entraînement mal classées}} {\\text{Nombre d'images d'entraînement}}\n",
    "$$\n",
    " \n",
    "\n",
    "Notez que cette fonction dépend du paramètre ``t``.  "
   ]
  },
  {
   "cell_type": "markdown",
   "metadata": {},
   "source": [
    "<b><font color=red> Exécuter la cellule suivante pour calculer votre erreur d'entraînement :</font></b>"
   ]
  },
  {
   "cell_type": "code",
   "execution_count": null,
   "metadata": {},
   "outputs": [],
   "source": [
    "# calcul de l'erreur d'entraienement grâce \n",
    "\n",
    "e_train = erreur_train(x_train, y_train, t, classification)\n",
    "print(\"\\n \\n --> Erreur d'entraînement =\", f\"{100*e_train:.2f}% \\n \\n\")"
   ]
  },
  {
   "cell_type": "markdown",
   "metadata": {},
   "source": [
    "Qu'en pensez-vous ? Nous allons maintenant chercher le paramètre `t` qui minimse la fonction erreur."
   ]
  },
  {
   "cell_type": "markdown",
   "metadata": {},
   "source": [
    "## II.4 Minimisation de la fonction erreur"
   ]
  },
  {
   "cell_type": "markdown",
   "metadata": {},
   "source": [
    "Pour trouver le meilleur paramètre ``t`` nous traçons la fonction $e_{train}(t)$ pour trouver son minimum. "
   ]
  },
  {
   "cell_type": "markdown",
   "metadata": {},
   "source": [
    "<b><font color=red> Exécuter la cellule suivante pour afficher la fonction erreur :</font></b>"
   ]
  },
  {
   "cell_type": "code",
   "execution_count": null,
   "metadata": {},
   "outputs": [],
   "source": [
    "t_min = 0\n",
    "t_max = 70\n",
    "\n",
    "tracer_erreur(t_min, t_max, classification)"
   ]
  },
  {
   "cell_type": "markdown",
   "metadata": {},
   "source": [
    "<b><font color=blue> 1. Quelle valeur de ``t`` pouvez prendre pour avoir le moins d'erreur ? </font></b>\n",
    "<br>\n",
    "\n",
    "<br>\n",
    "<b><font color=blue> 2. Complétez la cellule suivante avec ce seuil et exécutez les 2 cellules suivantes pour obtenir votre nouvelle erreur d'entraînement : "
   ]
  },
  {
   "cell_type": "code",
   "execution_count": null,
   "metadata": {},
   "outputs": [],
   "source": [
    "# Nouveau seuil à compléter, d'après la figure précédente :\n",
    "\n",
    "t = ..."
   ]
  },
  {
   "cell_type": "code",
   "execution_count": null,
   "metadata": {},
   "outputs": [],
   "source": [
    "# Calcul de l'erreur d'entraienement avec ce nouveau seuil :  \n",
    "\n",
    "e_train = erreur_train(x_train, y_train, t, classification)\n",
    "print(\"\\n \\n --> Erreur d'entraînement =\", f\"{100*e_train:.2f}% \\n \\n\")"
   ]
  },
  {
   "cell_type": "markdown",
   "metadata": {},
   "source": [
    "## II.5 Amélioration de la caractéristique : faites mieux !\n"
   ]
  },
  {
   "cell_type": "markdown",
   "metadata": {},
   "source": [
    "<b><font color=blue>Pour diminuer encore l'erreur, vous allez définir votre propre caractéristique. Utilisez les propriétés des images pour inventer une caractéristique qui fait le moins d'erreur possible ! </font></b>"
   ]
  },
  {
   "cell_type": "markdown",
   "metadata": {},
   "source": [
    "### 1. Définissez dans la cellule suivante votre caractéristique :"
   ]
  },
  {
   "cell_type": "code",
   "execution_count": null,
   "metadata": {},
   "outputs": [],
   "source": [
    "# Votre propre caractéristique : \n",
    "\n",
    "def caracteristique(x):\n",
    "    \n",
    "    ...\n",
    "\n",
    "    return ..."
   ]
  },
  {
   "cell_type": "markdown",
   "metadata": {},
   "source": [
    "### 2. Réglez la fonction classification : "
   ]
  },
  {
   "cell_type": "markdown",
   "metadata": {},
   "source": [
    "Afficher en excécutant la cellule suivante les valeurs de votre caractéristique pour 10 images : "
   ]
  },
  {
   "cell_type": "code",
   "execution_count": null,
   "metadata": {},
   "outputs": [],
   "source": [
    "affichage_dix(x_train)\n",
    "\n",
    "for i in range(10):\n",
    "    k = caracteristique(x_train[i])\n",
    "    y = y_train[i]\n",
    "    print('Image ' +str(i+1)+' : k(x) = '+str(round(k,2))+',   y = '+str(y)+'\\n')"
   ]
  },
  {
   "cell_type": "markdown",
   "metadata": {},
   "source": [
    "En déduire comment compléter la fonction de classification : "
   ]
  },
  {
   "cell_type": "code",
   "execution_count": null,
   "metadata": {},
   "outputs": [],
   "source": [
    "# Algorithme de classification à compléter :\n",
    "\n",
    "def classification(x, t):\n",
    "    k = caracteristique(x)\n",
    "    if k > t:\n",
    "        return ...\n",
    "    else:\n",
    "        return ..."
   ]
  },
  {
   "cell_type": "markdown",
   "metadata": {},
   "source": [
    "### 3. Choisir un seuil qui minimise la fonction erreur : "
   ]
  },
  {
   "cell_type": "code",
   "execution_count": null,
   "metadata": {},
   "outputs": [],
   "source": [
    "# Changer t_min et t_max si besoin, pour l'affichage de la courbe d'erreur\n",
    "t_min = 0\n",
    "t_max = 70\n",
    "\n",
    "tracer_erreur(t_min, t_max, classification)"
   ]
  },
  {
   "cell_type": "code",
   "execution_count": null,
   "metadata": {},
   "outputs": [],
   "source": [
    "# Seuil à compléter :\n",
    "\n",
    "t = ..."
   ]
  },
  {
   "cell_type": "code",
   "execution_count": null,
   "metadata": {},
   "outputs": [],
   "source": [
    "# Calcul de l'erreur d'entraienement avec ce nouveau seuil :  \n",
    "\n",
    "e_train = erreur_train(x_train, y_train, t, classification)\n",
    "print(\"\\n \\n --> Erreur d'entraînement avec ma caractéristique =\", f\"{100*e_train:.2f}% \\n \\n\")"
   ]
  },
  {
   "cell_type": "markdown",
   "metadata": {},
   "source": [
    "## II.6 Soumission sur la plateforme pour obtenir l'erreur de test\n"
   ]
  },
  {
   "cell_type": "markdown",
   "metadata": {},
   "source": [
    "<b><font color=red>Une fois que vous être content de votre caractéristique,</font></b> exécuter la cellule suivante : "
   ]
  },
  {
   "cell_type": "code",
   "execution_count": null,
   "metadata": {},
   "outputs": [],
   "source": [
    "y_est_test = []\n",
    "\n",
    "for x in x_test:\n",
    "    y_est_test.append(classification(x, t))\n",
    "\n",
    "# Sauvez et téléchargez vos estimations y_est_test, en entrant le nom du fichier que vous souhaitez\n",
    "sauver_et_telecharger_mnist_2(y_est_test, 'y_est_test_mnist2.csv')"
   ]
  },
  {
   "cell_type": "markdown",
   "metadata": {},
   "source": [
    "<b><font color=red>Soumettez ce fichier .csv sur la plateforme Challenge Data</font></b> afin d'obtenir votre erreur de test en cliquant sur **[ce lien](https://challengedata.ens.fr/challenges/116)** (n'oubliez pas au préalable d'être bien connecté).\n",
    "\n",
    "Quelle est votre erreur de test ?"
   ]
  },
  {
   "cell_type": "markdown",
   "metadata": {},
   "source": [
    "### Guide pour la soumission\n",
    "![Bouton soumissions](https://github.com/akimx98/challenge_data/blob/main/Guide%20site/soumettre.png?raw=true)\n",
    "![Champs soumissions](https://github.com/akimx98/challenge_data/blob/main/Guide%20site/champs_soumission.png?raw=true)"
   ]
  }
 ],
 "metadata": {
  "colab": {
   "provenance": []
  },
  "kernelspec": {
   "display_name": "Python 3",
   "language": "python",
   "name": "python3"
  },
  "language_info": {
   "codemirror_mode": {
    "name": "ipython",
    "version": 3
   },
   "file_extension": ".py",
   "mimetype": "text/x-python",
   "name": "python",
   "nbconvert_exporter": "python",
   "pygments_lexer": "ipython3"
  }
 },
 "nbformat": 4,
 "nbformat_minor": 1
}
