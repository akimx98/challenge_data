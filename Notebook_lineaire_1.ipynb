{
 "cells": [
  {
   "cell_type": "markdown",
   "metadata": {},
   "source": [
    "# Challenge Data : classification linéaire des images de 2 et de 7"
   ]
  },
  {
   "cell_type": "markdown",
   "metadata": {},
   "source": [
    "## Expérimentation en Python - Séance 1"
   ]
  },
  {
   "cell_type": "markdown",
   "metadata": {},
   "source": [
    "On commence par importer les données dont nous aurons besoin :"
   ]
  },
  {
   "cell_type": "code",
   "execution_count": null,
   "metadata": {},
   "outputs": [],
   "source": [
    "# Importation des données \n",
    "from utilitaires_mnist_2 import *"
   ]
  },
  {
   "cell_type": "markdown",
   "metadata": {},
   "source": [
    "## I. Rappel sur les images numériques en Python"
   ]
  },
  {
   "cell_type": "markdown",
   "metadata": {},
   "source": [
    "Affichons une image `x` de taille $28 \\times 28$ que nous avons importée, grâce à la fonction `affichage`"
   ]
  },
  {
   "cell_type": "code",
   "execution_count": null,
   "metadata": {},
   "outputs": [],
   "source": [
    "# Dans cette cellule, afficher l'image x\n",
    "affichage(x)"
   ]
  },
  {
   "cell_type": "markdown",
   "metadata": {},
   "source": [
    "* Pour accèder à la valeur d'un pixel $(i,j)$ de $x$ :  `x[i,j]`.\n",
    "* Afficher une valeur :  fonction `print()`"
   ]
  },
  {
   "cell_type": "code",
   "execution_count": null,
   "metadata": {},
   "outputs": [],
   "source": [
    "# Dans cette cellule, afficher le pixel (14, 14) de l'image x\n"
   ]
  },
  {
   "cell_type": "markdown",
   "metadata": {},
   "source": [
    "<br><br>\n",
    "\n",
    "***\n",
    "***\n",
    "\n",
    "<br><br>"
   ]
  },
  {
   "cell_type": "markdown",
   "metadata": {},
   "source": [
    "## II. Challenge : classer les chiffres 2 et 7"
   ]
  },
  {
   "cell_type": "markdown",
   "metadata": {},
   "source": [
    "La base de données MNIST-2 contient des images de 2 et de 7 de taille $28 \\times 28$. \n",
    "\n",
    "* `x_train` : liste d'images d'entraînement.\n",
    "* `x_test` : liste d'images de test. \n",
    "\n",
    "* `y_train` : liste des classes $y \\in \\{2, 7\\}$ associés aux images de `x_train`.\n",
    "\n",
    "**On a deux classes d'images :**\n",
    "- la classe des chiffres $2$ : **classe 2**\n",
    "- la classe des chiffres $7$ : **classe 7**"
   ]
  },
  {
   "cell_type": "markdown",
   "metadata": {},
   "source": [
    "### II.1 Visualisation d'images d'entraînement "
   ]
  },
  {
   "cell_type": "markdown",
   "metadata": {},
   "source": [
    "* `x_train_par_population[0]` est une liste contenant toutes les images de 2.\n",
    "* `x_train_par_population[1]` est une liste contenant toutes les images de 7."
   ]
  },
  {
   "cell_type": "code",
   "execution_count": null,
   "metadata": {},
   "outputs": [],
   "source": [
    "# Dans cette cellule, afficher la deuxième image au sein de la population de chiffres 6\n",
    "affichage(x_train_par_population[1][1])"
   ]
  },
  {
   "cell_type": "markdown",
   "metadata": {},
   "source": [
    "Exécutez la cellule ci-dessous afin d'afficher les dix premières images au sein de chaque population."
   ]
  },
  {
   "cell_type": "code",
   "execution_count": null,
   "metadata": {},
   "outputs": [],
   "source": [
    "# Affichage des dix premières images de 2\n",
    "affichage_dix(x_train_par_population[0], [2]*10)\n",
    "\n",
    "# Affichage des dix premières images de 7\n",
    "affichage_dix(x_train_par_population[1], [7]*10)"
   ]
  },
  {
   "cell_type": "markdown",
   "metadata": {},
   "source": [
    "<br><br>\n",
    "\n",
    "***\n",
    "***\n",
    "\n",
    "<br><br>"
   ]
  },
  {
   "cell_type": "markdown",
   "metadata": {},
   "source": [
    "### II.2 Utiliser deux caractéristiques discriminantes au lieu d'une seule"
   ]
  },
  {
   "cell_type": "markdown",
   "metadata": {},
   "source": [
    "**Benchmark :** Proposition de deux caractéristiques utilisées comme référence "
   ]
  },
  {
   "cell_type": "code",
   "execution_count": null,
   "metadata": {},
   "outputs": [],
   "source": [
    "def deux_caracteristiques(x):\n",
    "    # coupe horizontale\n",
    "    k1 = moyenne(x[0:14,:])\n",
    "    k2 = moyenne(x[14:,:])\n",
    "    return (k1, k2)"
   ]
  },
  {
   "cell_type": "markdown",
   "metadata": {},
   "source": [
    "### Visualisation dans le plan des caractéristiques des différentes populations"
   ]
  },
  {
   "cell_type": "markdown",
   "metadata": {},
   "source": [
    "On calcule ces deux caractéristiques sur toutes les images de `x_train`, et on stocke les résultats dans une liste `c_train`. \n",
    "\n",
    "Exécutez la cellule suivante qui calcule la liste `c_train`."
   ]
  },
  {
   "cell_type": "code",
   "execution_count": null,
   "metadata": {},
   "outputs": [],
   "source": [
    "# On commence par définir et initialiser la liste c_train (vide au début)\n",
    "c_train = []\n",
    "\n",
    "# On la remplit à l'aide d'une boucle for :\n",
    "for x in x_train:\n",
    "    c_train.append(deux_caracteristiques(x))\n",
    "\n",
    "visualiser_scatter_2d_mnist_2(c_train)"
   ]
  },
  {
   "cell_type": "markdown",
   "metadata": {},
   "source": [
    "### II. 3. Classificateur linéaire"
   ]
  },
  {
   "cell_type": "markdown",
   "metadata": {},
   "source": [
    "<b><font color=red> Proposer deux valeurs pour les paramètre m et p de l'équation de la droite.</font></b>\n",
    "\n",
    "On rappelle que l'équation est $x_2 = m x_1 +p $"
   ]
  },
  {
   "cell_type": "code",
   "execution_count": null,
   "metadata": {},
   "outputs": [],
   "source": [
    "m = 2\n",
    "p = 0\n",
    "\n",
    "tracer_separatrice(m, p, c_train)"
   ]
  },
  {
   "cell_type": "markdown",
   "metadata": {},
   "source": [
    "### Erreur sur l'ensemble d'entraînement"
   ]
  },
  {
   "cell_type": "code",
   "execution_count": null,
   "metadata": {},
   "outputs": [],
   "source": [
    "def classificateur(m, p, k_1, k_2):\n",
    "    # On calcule le signe du produit scalaire : \n",
    "    s = np.sign(m*k_1 - k_2 +p)\n",
    "\n",
    "    # On en déduit la classe de l'image :\n",
    "    if s > 0:\n",
    "        return 1\n",
    "    else :\n",
    "        return -1"
   ]
  },
  {
   "cell_type": "code",
   "execution_count": null,
   "metadata": {},
   "outputs": [],
   "source": [
    "score = erreur_lineaire(m,p,c_train, y_train)\n",
    "\n",
    "print(\"Score = \"+str(score)+\" %\")"
   ]
  },
  {
   "cell_type": "markdown",
   "metadata": {},
   "source": [
    "<b><font color=blue> Êtes-vous content de ce score ? Essayer de faire mieux en changeant les valeurs de $m$ et de $p$ pour avoir une erreur encore plus faible ! </b></font>\n",
    "\n",
    "<b><font color=blue> Quand vous êtes satisfait de ce score, passez à la suite. </b></font>"
   ]
  },
  {
   "cell_type": "markdown",
   "metadata": {},
   "source": [
    "<br><br>\n",
    "\n",
    "***\n",
    "***\n",
    "\n",
    "<br><br>"
   ]
  },
  {
   "cell_type": "markdown",
   "metadata": {},
   "source": [
    "### Erreur sur l'ensemble de test"
   ]
  },
  {
   "cell_type": "markdown",
   "metadata": {},
   "source": [
    "On applique maintenant l'algorithme de classification précédent aux images de test `x_test`. On commence comme pour les images d'entraînement par calculer leurs caractéristiques et les stocker dans une liste `c_test`. \n",
    "\n",
    "<b><font color=red> Exécutez la cellule suivante :  </font></b> "
   ]
  },
  {
   "cell_type": "code",
   "execution_count": null,
   "metadata": {},
   "outputs": [],
   "source": [
    "# On commence par définir et initialiser la liste c_test (vide au début)\n",
    "c_test = []\n",
    "\n",
    "# On la remplit à l'aide d'une boucle for :\n",
    "for x in x_test:\n",
    "    c_test.append(deux_caracteristiques(x))\n",
    "    \n",
    "y_est_test = []\n",
    "\n",
    "# On remplit y_est_test à l'aide de notre algorithme de classification :\n",
    "for c in c_test:\n",
    "    y_est_test.append(classificateur(m,p, c[0], c[1]))\n",
    "\n",
    "# Sauve et télécharge les estimations `y_est_test` : \n",
    "sauver_et_telecharger_mnist_2(y_est_test, 'y_est_test.csv')"
   ]
  },
  {
   "cell_type": "markdown",
   "metadata": {},
   "source": [
    "<b><font color=red>Soumettez ce fichier .csv sur la plateforme Challenge Data</font></b> afin d'obtenir votre erreur de test en cliquant sur **[ce lien](https://challengedata.ens.fr/challenges/116)** (n'oubliez pas au préalable d'être bien connecté).\n",
    "\n",
    "Quelle est votre erreur de test ?"
   ]
  },
  {
   "cell_type": "markdown",
   "metadata": {},
   "source": [
    "### Guide pour la soumission\n",
    "![Bouton soumissions](https://github.com/akimx98/challenge_data/blob/main/Guide%20site/soumettre.png?raw=true)\n",
    "![Champs soumissions](https://github.com/akimx98/challenge_data/blob/main/Guide%20site/champs_soumission.png?raw=true)"
   ]
  },
  {
   "cell_type": "markdown",
   "metadata": {},
   "source": []
  }
 ],
 "metadata": {
  "kernelspec": {
   "display_name": "Python 3",
   "language": "python",
   "name": "python3"
  },
  "language_info": {
   "codemirror_mode": {
    "name": "ipython",
    "version": 3
   },
   "file_extension": ".py",
   "mimetype": "text/x-python",
   "name": "python",
   "nbconvert_exporter": "python",
   "pygments_lexer": "ipython3",
   "version": "3.8.8"
  }
 },
 "nbformat": 4,
 "nbformat_minor": 2
}
